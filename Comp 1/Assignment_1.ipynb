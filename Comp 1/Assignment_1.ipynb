{
  "cells": [
    {
      "cell_type": "markdown",
      "source": "# **Competencia 1 - CC6205 Natural Language Processing 📚**\n\n**Integrantes:**\n\n- Sebastián Flores\n\n- Felipe Ortuzar\n\n- Romina Pérez\n\n**Usuario del equipo en CodaLab:**\n\n**Fecha límite de entrega 📆:** Jueves 29 de Abril.\n\n**Tiempo estimado de dedicación:**",
      "metadata": {
        "ExecuteTime": {
          "end_time": "2020-03-31T13:49:08.174519Z",
          "start_time": "2020-03-31T13:49:08.165989Z"
        },
        "id": "gpbvNOH0zvIi",
        "cell_id": "00000-aa9c820c-ec3a-4e95-9910-517d361ed7d1",
        "deepnote_cell_type": "markdown"
      }
    },
    {
      "cell_type": "markdown",
      "source": "## **Objetivo**",
      "metadata": {
        "id": "mxlNrNf_p0ZY",
        "cell_id": "00001-35ee8d7d-cc4c-458b-bf06-e34de90a6729",
        "deepnote_cell_type": "markdown"
      }
    },
    {
      "cell_type": "markdown",
      "source": "En esta tarea grupal participarán de una competencia estilo [Kaggle](https://www.kaggle.com/) pero utilizando la página [CodaLab](https://codalab.org/). El objetivo es trabajar en la clasificación de tweets  según su intensidad de emoción, esto corresponde a la task de clasificación de texto. \n\nTendrán a su disposición 4 datasets de tweets con distintas emociones: `anger`, `fear`, `sadness` y `joy`. Deberán crear un clasificador para cada uno de estos datasets que indique la intensidad de dicha emoción en sus tweets (`low`, `medium`, `high`). ",
      "metadata": {
        "id": "mrtvsKf2p3A4",
        "cell_id": "00002-58f5097f-46e9-45c0-b8c0-4e894f8a847c",
        "deepnote_cell_type": "markdown"
      }
    },
    {
      "cell_type": "markdown",
      "source": "## **Instrucciones**\n\n",
      "metadata": {
        "id": "N6lhhfl2zvIk",
        "cell_id": "00003-0e7e8698-9b33-47ca-a153-0dc2ae88ec13",
        "deepnote_cell_type": "markdown"
      }
    },
    {
      "cell_type": "markdown",
      "source": "- La competencia consiste en resolver 4 problemas de clasificación **distintos**, cada uno con tres clases posibles. Por cada problema deberán crear un clasificador distinto. La evaluación de la competencia se realiza en base a 3 métricas: `AUC`, `Kappa` y `Accuracy`. Los mejores puntajes en cada una de estas métricas serán quienes ganen la competencia.\n\n- Para comenzar se les entregará en este notebook la estructura del informe a entregar y el código de un baseline con el cuál pueden comparar los resultados de sus experimentos. Este baseline consiste en la creación de features y una clasificación simple siguiendo el paradigma de Machine Learning empírico. Los puntajes obtenidos por el baseline los pueden visualizar en el link de CodaLab buscando al usuario **cc6205**. Esperamos que los superen fácilmente 😉\n\n- Para participar, deben registrarse en CodaLab y luego ingresar a la competencia usando el siguiente [link](https://competitions.codalab.org/competitions/30330?secret_key=b2ed0be7-bf23-42a1-9400-f85fa1b7bae7). \n\n- Está permitido hacer grupos de máximo 3 alumnos. Cada grupo debe tener un nombre de equipo, para ello en CodaLab pueden dirigirse a settings y luego cambiar el Team Name. Sólo una persona debe administrar la cuenta del grupo y se verificará que no se hayan creado múltiples cuentas por grupo.\n\n- En total pueden hacer un **máximo de 4 submissions**, hagan muchos experimentos probando en el conjunto de test antes de realizar el envío.\n\n- Es importante que hagan varios experimentos incorporando técnicas como [cross-validation](https://es.wikipedia.org/wiki/Validaci%C3%B3n_cruzada#:~:text=La%20validaci%C3%B3n%20cruzada%20o%20cross,datos%20de%20entrenamiento%20y%20prueba.) o [random sampling](https://towardsdatascience.com/the-5-sampling-algorithms-every-data-scientist-need-to-know-43c7bc11d17c) antes de enviar sus predicciones a CodaLab, ya que les puede dar un mejor indicio del nivel de generalización de sus modelos. \n\n- Asegúrense que la distribución de las clases sea balanceada en las particiones de training y testing debido a que existe un desbalanceo. \n\n- Verificar que el formato de la submission coincida con el de la competencia. De lo contrario, se les será evaluado incorrectamente ya que el Script de evaluación espera como input dicho formato. En el código de las métricas pueden verificar cómo son los inputs.\n\n- No se limiten a los contenidos vistos ni a scikit ni a este baseline. No tienen restricciones entre utilizar Deep Learning o Machine Learning empírico. Si reutilizan gran cantidad de código de alguna página por favor mostrar la referencia en su código. ¡Usen todo su conocimiento e ingenio en mejorar sus sistemas para poder ganar la competencia! \n\n- **Es requisito entregar el reporte con el código y haber participado en la competencia para ser evaluado. Un código sin reporte o un reporte sin código serán evaluados con la nota mínima.**\n\n- Todas las dudas escríbanlas en el canal de Discord de competencias. Los emails que lleguen al equipo docente serán remitidos a ese medio.",
      "metadata": {
        "ExecuteTime": {
          "end_time": "2020-04-07T14:34:38.796217Z",
          "start_time": "2020-04-07T14:34:38.782255Z"
        },
        "id": "7wTyult1zvIl",
        "cell_id": "00004-842fdf20-90d4-4328-9ecc-6dfbc5794b45",
        "deepnote_cell_type": "markdown"
      }
    },
    {
      "cell_type": "markdown",
      "source": "**Importante**: Recuerden poner su nombre y el de su usuario o de equipo (en caso de que aplique) en el reporte. NO serán evaluados Notebooks sin nombre.",
      "metadata": {
        "ExecuteTime": {
          "end_time": "2020-04-07T15:25:19.677190Z",
          "start_time": "2020-04-07T15:25:19.671206Z"
        },
        "id": "jiDISxa-zvIn",
        "cell_id": "00005-287bee67-be6a-4247-a517-b28067664c5b",
        "deepnote_cell_type": "markdown"
      }
    },
    {
      "cell_type": "markdown",
      "source": "----------------------------------------",
      "metadata": {
        "id": "igf7TBfSzvIo",
        "cell_id": "00006-f9b6d138-4a60-4ecd-81e1-f8b44df1b796",
        "deepnote_cell_type": "markdown"
      }
    },
    {
      "cell_type": "markdown",
      "source": "## **Reporte a entregar**",
      "metadata": {
        "id": "a6moqxkEwCe-",
        "cell_id": "00007-736e9c6c-3099-43c8-a567-5d10581ebcb9",
        "deepnote_cell_type": "markdown"
      }
    },
    {
      "cell_type": "markdown",
      "source": "Uno de los puntos claves en la evaluación de esta competencia es elaborar un informe claro y preciso, argumentando las decisiones tomadas al momento de crear sus modelos para que el cuerpo docente pueda entenderlos. La estructura que debe contener es la siguiente:\n\n1.\t**Introducción**: Presentar brevemente el problema a resolver, incluyendo la formalización de la task (cómo son los inputs y outputs del problema) y los desafíos que ven al analizar el corpus entregado. (**0.5 puntos**)\n2.\t**Representaciones**: Describir los atributos y representaciones usadas como entrada de los clasificadores, **recordar** que para entrenar modelos el input debe tener su representación numérica. Si bien, con Bag of Words (**baseline**) ya se comienzan a percibir buenos resultados, pueden mejorar su evaluación agregando más atributos y representaciones diseñadas a mano, sean lo más creativos posible. Más abajo encontrarán una lista de estos posibles atributos que les podrá ser de utilidad. (**1 punto**)\n3.\t**Algoritmos**: Describir **brevemente** los algoritmos de clasificación usados, tanto si fueron algoritmos ya vistos en clases o bien arquitecturas de Deep Learning. (**0.5 puntos**)\n4.\t**Métricas de evaluación**: Describir brevemente las métricas utilizadas en la evaluación, indicando qué miden y su interpretación. (**0.5 puntos**)\n\n5.  **Diseño experimental**: Esta es una de las secciones más importantes del reporte. Deben describir minuciosamente los experimentos que realizarán en la siguiente sección. Describir las variables de control que manejarán, algunos ejemplos pueden ser: Los parámetros de los clasificadores, parámetros en las funciones con que procesan los textos y los transforman, parámetros para el cross-validation, particiones de datos utilizadas, etc. En caso que utilicen redes neuronales, ser claros con el conjunto de hiperparámetros que probarán, la decisión en las funciones de optimización, función de pérdida,  regulación, etc. Básicamente explicar qué es lo que veremos en la siguiente sección.\n(**1 punto**)\n\n6.\t**Experimentos**: Incluyan todo el código de sus experimentos aquí. ¡Es vital haber realizado varios experimentos para sacar una buena nota! (**1.5 puntos**)\n\n7. **Resultados**: Comparar los resultados obtenidos utilizando diferentes algoritmos y representaciones.  Pueden mostrar los resultados sobre la partición de validación en caso que la generen o sobre los resultados del conjunto de testing. Mostrar los resultados en alguna tabla, pueden poner aquí también los resultados obtenidos al realizar la submission. (**0.5 puntos**)\n\n8. **Conclusiones**:  Discutir resultados, proponer trabajo futuro. (**0.5 puntos**)",
      "metadata": {
        "id": "Vo7vfXV4wD8s",
        "cell_id": "00008-cf71d9f7-0bc2-405c-9386-62201dbd1c40",
        "deepnote_cell_type": "markdown"
      }
    },
    {
      "cell_type": "markdown",
      "source": "## **Descripción Baseline**",
      "metadata": {
        "id": "LMSn_tDYwOb1",
        "cell_id": "00009-213871b8-3b6a-45ee-a956-8b279f842252",
        "deepnote_cell_type": "markdown"
      }
    },
    {
      "cell_type": "markdown",
      "source": "` `\nEl baseline de la sección **Experimentos** contiene un código básico que resuelve la task y es el modelo subido por **cc6205-baseline** a la competencia. Pueden modificar el código como quieran siempre y cuando no cambien las funciones de las métricas y el formato en que se suben los archivos a la competencia, ya que ese es el formato en que realizamos la evaluación. En concretro, el baseline hace lo siguiente:\n` `\n\n- Obtiene los datasets desde el repositorio del curso.\n- Divide los datasets en train (datos que están etiquetados) y target set (datos no etiquetados para la competencia). Además, por cada dataset en train, se divide en un conjunto de entrenamiento y uno de prueba. Aquí la mejor práctica sería cambiar el código para obtener un conjunto de entrenamiento, validación y prueba.\n\n- Crea un Pipeline que: \n    - Crea features personalizados para la representación numérica.\n    - Transforma los dataset a bag of words (BoW).  \n    - Entrena un clasificador usando cada train set.\n- Clasifica y evalua el sistema creado usando el test set.\n- Clasifica el target set.\n- Genera una submission con el target en formato zip en el directorio en donde se está ejecutando el notebook. \n\n` `\n\nAlgunas pistas sobre como mejorar el rendimiento de los sistemas que creen. (Esto tendrá mas sentido cuando vean el código)\n\n- **Vectorizador**: Investigar los modulos de `nltk`, en particular, `TweetTokenizer`, `mark_negation` para reemplazar los tokenizadores. También, el parámetro `ngram_range` (Ojo que el clf naive bayes no debería usarse con n-gramas, ya que rompe el supuesto de independencia). Además, implementar los atributos que crean útiles desde el listado del enunciado. Investigar también el vectorizador tf-idf.\n\n- **Clasificador**: Investigar otros clasificadores más efectivos que naive bayes. Estos deben poder retornar la probabilidad de pertenecia de las clases (ie: implementar la función `predict_proba`).\n\n- **Features**: Recuerden que pueden implementar todas las features que se les ocurra! Aquí les adjuntamos algunos ejemplos:\n    -\tWord n-grams.\n    -\tCharacter n-grams. \n    -\tPart-of-speech tags.\n    -\tSentiment Lexicons (Lexicon = A set of words with a label or associated value.).\n        - Count the number of positive and negative words within a sentence.\n        - If the lexicon has associated intensity of feeling (for example in a decimal), then take the average of the intensity of the sentence according to the feeling, the sum, etc.\n        -\tA good lexicon of sentiment: [Bing Liu](http://www.cs.uic.edu/~liub/FBS/opinion-lexicon-English.rar) \n        - A reference with a lot of [sentiment lexicons](https://medium.com/@datamonsters/sentiment-analysis-tools-overview-part-1-positive-and-negative-words-databases-ae35431a470c). \n    -\tThe number of elongated words (words with one character repeated more than two times).\n    -\tThe number of words with all characters in uppercase.\n    -\tThe presence and the number of positive or negative emoticons.\n    -\tThe number of individual negations.\n    -\tThe number of contiguous sequences of dots, question marks and exclamation marks.\n    -\tWord Embeddings: Here are some good ideas on how to use them.\n    https://stats.stackexchange.com/questions/221715/apply-word-embeddings-to-entire-document-to-get-a-feature-vector\n\n- **Reducción de dimensionalidad**: También puede serles de ayuda. Referencias [aquí](https://scikit-learn.org/stable/modules/unsupervised_reduction.html).\n\n- Por último, pueden encontrar mas referencias de cómo mejorar sus features, el vectorizador y el clasificador [aquí](https://affectivetweets.cms.waikato.ac.nz/benchmark/).",
      "metadata": {
        "ExecuteTime": {
          "end_time": "2019-08-21T19:18:43.301002Z",
          "start_time": "2019-08-21T19:18:43.298037Z"
        },
        "id": "30fPWG5pzvIm",
        "cell_id": "00010-2afd7103-5fd0-4192-8df7-052434d0f92e",
        "deepnote_cell_type": "markdown"
      }
    },
    {
      "cell_type": "markdown",
      "source": "# **Entregable.**",
      "metadata": {
        "id": "IT7ZpVRuzGAF",
        "cell_id": "00011-47cfb4df-4285-42c8-900b-d708a2e64647",
        "deepnote_cell_type": "markdown"
      }
    },
    {
      "cell_type": "markdown",
      "source": "## **1. Introducción**",
      "metadata": {
        "ExecuteTime": {
          "end_time": "2020-03-31T13:34:25.683540Z",
          "start_time": "2020-03-31T13:34:25.673430Z"
        },
        "id": "E29LEMZ9zvIo",
        "cell_id": "00012-93f2f8c2-ffa6-4bed-8d1b-dc12ad1b9597",
        "deepnote_cell_type": "markdown"
      }
    },
    {
      "cell_type": "markdown",
      "source": "    Escriba su introducción aquí",
      "metadata": {
        "id": "W20NnoduzvIo",
        "cell_id": "00013-455df257-d69b-4887-a324-b5b1bbcb69e8",
        "deepnote_cell_type": "markdown"
      }
    },
    {
      "cell_type": "markdown",
      "source": "## **2. Representaciones**",
      "metadata": {
        "ExecuteTime": {
          "end_time": "2020-03-31T13:47:13.474238Z",
          "start_time": "2020-03-31T13:47:13.454068Z"
        },
        "id": "OTAIEnSJzvIp",
        "cell_id": "00014-95d1a3c9-6426-4de7-81f0-3081df535572",
        "deepnote_cell_type": "markdown"
      }
    },
    {
      "cell_type": "markdown",
      "source": "    Escriba sus decisiones para la representación",
      "metadata": {
        "ExecuteTime": {
          "end_time": "2020-03-31T13:47:17.719268Z",
          "start_time": "2020-03-31T13:47:17.709207Z"
        },
        "id": "EV1qBv-MzvIp",
        "cell_id": "00015-d412ddf0-fa68-4778-b29e-5724b5abfd78",
        "deepnote_cell_type": "markdown"
      }
    },
    {
      "cell_type": "markdown",
      "source": "## **3. Algoritmos**",
      "metadata": {
        "id": "kMOjYSQezvIq",
        "cell_id": "00016-01958f5d-dc69-4b96-ae6e-e0e134f0d6bc",
        "deepnote_cell_type": "markdown"
      }
    },
    {
      "cell_type": "markdown",
      "source": "    Explique los algoritmos utilizados",
      "metadata": {
        "id": "8bPiFs33zilS",
        "cell_id": "00017-4a38bf53-589a-4c0a-92f0-29d6b57908f5",
        "deepnote_cell_type": "markdown"
      }
    },
    {
      "cell_type": "markdown",
      "source": "## **4. Métricas de Evaluación**",
      "metadata": {
        "ExecuteTime": {
          "end_time": "2020-03-31T13:47:52.064631Z",
          "start_time": "2020-03-31T13:47:52.044451Z"
        },
        "id": "ECjkdgdwzvIq",
        "cell_id": "00018-fc93bde4-4380-4f07-8aa5-951ed35ac048",
        "deepnote_cell_type": "markdown"
      }
    },
    {
      "cell_type": "markdown",
      "source": "- AUC: ...\n- Kappa: ...\n- Accuracy: ...\n",
      "metadata": {
        "id": "O6eHJdHBzvIr",
        "cell_id": "00019-205f6136-206e-4162-85d0-d3a62cd42801",
        "deepnote_cell_type": "markdown"
      }
    },
    {
      "cell_type": "markdown",
      "source": "## **5. Diseño experimental**",
      "metadata": {
        "id": "SJyTrr2onLOo",
        "cell_id": "00020-8397aa62-0838-4855-974b-db34b7f39613",
        "deepnote_cell_type": "markdown"
      }
    },
    {
      "cell_type": "markdown",
      "source": "    Descripción de la metodología ",
      "metadata": {
        "id": "qnhEwjh_nP9M",
        "cell_id": "00021-ef172da0-5366-490f-b013-ede5b782e504",
        "deepnote_cell_type": "markdown"
      }
    },
    {
      "cell_type": "markdown",
      "source": "## **6. Experimentos**",
      "metadata": {
        "id": "OX5Ib_pCzvIr",
        "cell_id": "00022-4bd672ea-277f-435b-80f2-937c5c426f74",
        "deepnote_cell_type": "markdown"
      }
    },
    {
      "cell_type": "markdown",
      "source": "### Importar librerías",
      "metadata": {
        "ExecuteTime": {
          "end_time": "2020-03-31T13:31:40.023344Z",
          "start_time": "2020-03-31T13:31:40.003541Z"
        },
        "id": "aK24MJ8jzvIr",
        "cell_id": "00023-f5ce188b-ca08-4a7a-bf91-c7d69379edb1",
        "deepnote_cell_type": "markdown"
      }
    },
    {
      "cell_type": "code",
      "metadata": {
        "ExecuteTime": {
          "end_time": "2020-04-07T15:44:20.587160Z",
          "start_time": "2020-04-07T15:44:19.319386Z"
        },
        "id": "FukgFUTUzvIs",
        "colab": {
          "base_uri": "https://localhost:8080/"
        },
        "executionInfo": {
          "status": "ok",
          "timestamp": 1617771389906,
          "user_tz": 240,
          "elapsed": 4253,
          "user": {
            "displayName": "Sebastián Flores",
            "photoUrl": "",
            "userId": "05571959636624750778"
          }
        },
        "outputId": "e1fe7fed-c335-4bbf-ddfc-8cb28d17100c",
        "cell_id": "00024-3b67736e-3ea0-445a-83de-d9a48a7aae25",
        "deepnote_to_be_reexecuted": false,
        "source_hash": "7001c4cf",
        "execution_millis": 76,
        "execution_start": 1619021458347,
        "deepnote_cell_type": "code"
      },
      "source": "import pandas as pd\nimport os\nimport numpy as np\nimport shutil\nimport string\nimport re\n\nfrom sklearn.naive_bayes import MultinomialNB\nfrom sklearn.svm import SVC\nfrom sklearn.ensemble import RandomForestClassifier\n\nfrom sklearn.pipeline import Pipeline, FeatureUnion\nfrom sklearn.metrics import confusion_matrix, cohen_kappa_score, classification_report, accuracy_score, roc_auc_score\nfrom sklearn.model_selection import train_test_split\nfrom sklearn.base import BaseEstimator, TransformerMixin\n\nfrom sklearn.feature_extraction.text import CountVectorizer, TfidfVectorizer\nfrom nltk.tokenize import word_tokenize, TweetTokenizer\nfrom nltk.corpus import stopwords\nfrom nltk.stem.wordnet import WordNetLemmatizer\nfrom nltk.stem import SnowballStemmer\n\npd.set_option('display.max_colwidth', None)\nimport nltk\nnltk.download('punkt')\nnltk.download('stopwords')\n\npunct = list(string.punctuation)\nstop_words = list(stopwords.words('english'))\nstemmer = SnowballStemmer('english')",
      "execution_count": 75,
      "outputs": [
        {
          "name": "stderr",
          "text": "[nltk_data] Downloading package punkt to /root/nltk_data...\n[nltk_data]   Package punkt is already up-to-date!\n[nltk_data] Downloading package stopwords to /root/nltk_data...\n[nltk_data]   Package stopwords is already up-to-date!\n",
          "output_type": "stream"
        }
      ]
    },
    {
      "cell_type": "markdown",
      "source": "### Definir métodos de evaluación (**NO tocar este código**)\n\nEstas funciones están a cargo de evaluar los resultados de la tarea. No deberían cambiarlas.\n",
      "metadata": {
        "id": "FevBPus0zvIs",
        "cell_id": "00025-f516e292-115f-48fc-9c40-fe2368b5645f",
        "deepnote_cell_type": "markdown"
      }
    },
    {
      "cell_type": "code",
      "metadata": {
        "ExecuteTime": {
          "end_time": "2020-04-07T15:44:20.604066Z",
          "start_time": "2020-04-07T15:44:20.589106Z"
        },
        "id": "9wlllV7PzvIs",
        "executionInfo": {
          "status": "ok",
          "timestamp": 1617776160472,
          "user_tz": 240,
          "elapsed": 549,
          "user": {
            "displayName": "Sebastián Flores",
            "photoUrl": "",
            "userId": "05571959636624750778"
          }
        },
        "cell_id": "00026-5963b42e-21ce-41e6-8b5d-70044f27c3e5",
        "deepnote_to_be_reexecuted": false,
        "source_hash": "8dfc290a",
        "execution_millis": 12,
        "execution_start": 1619016843978,
        "deepnote_cell_type": "code"
      },
      "source": "def auc_score(test_set, predicted_set):\n    high_predicted = np.array([prediction[2] for prediction in predicted_set])\n    medium_predicted = np.array(\n        [prediction[1] for prediction in predicted_set])\n    low_predicted = np.array([prediction[0] for prediction in predicted_set])\n    high_test = np.where(test_set == 'high', 1.0, 0.0)\n    medium_test = np.where(test_set == 'medium', 1.0, 0.0)\n    low_test = np.where(test_set == 'low', 1.0, 0.0)\n    auc_high = roc_auc_score(high_test, high_predicted)\n    auc_med = roc_auc_score(medium_test, medium_predicted)\n    auc_low = roc_auc_score(low_test, low_predicted)\n    auc_w = (low_test.sum() * auc_low + medium_test.sum() * auc_med +\n             high_test.sum() * auc_high) / (\n                 low_test.sum() + medium_test.sum() + high_test.sum())\n    return auc_w\n\n\ndef evaluate(predicted_probabilities, y_test, labels, dataset_name):\n    # Importante: al transformar los arreglos de probabilidad a clases,\n    # entregar el arreglo de clases aprendido por el clasificador.\n    # (que comunmente, es distinto a ['low', 'medium', 'high'])\n    predicted_labels = [\n        labels[np.argmax(item)] for item in predicted_probabilities\n    ]\n\n    print('Confusion Matrix for {}:\\n'.format(dataset_name))\n    print(\n        confusion_matrix(y_test,\n                         predicted_labels,\n                         labels=['low', 'medium', 'high']))\n\n    print('\\nClassification Report:\\n')\n    print(\n        classification_report(y_test,\n                              predicted_labels,\n                              labels=['low', 'medium', 'high']))\n    # Reorder predicted probabilities array.\n    labels = labels.tolist()\n    \n    predicted_probabilities = predicted_probabilities[:, [\n        labels.index('low'),\n        labels.index('medium'),\n        labels.index('high')\n    ]]\n    \n    \n    auc = round(auc_score(y_test, predicted_probabilities), 3)\n    print(\"Scores:\\n\\nAUC: \", auc, end='\\t')\n    kappa = round(cohen_kappa_score(y_test, predicted_labels), 3)\n    print(\"Kappa:\", kappa, end='\\t')\n    accuracy = round(accuracy_score(y_test, predicted_labels), 3)\n    print(\"Accuracy:\", accuracy)\n    print('------------------------------------------------------\\n')\n    return np.array([auc, kappa, accuracy])",
      "execution_count": 3,
      "outputs": []
    },
    {
      "cell_type": "markdown",
      "source": "### Datos\n\n",
      "metadata": {
        "id": "RkOP6ugwzvIt",
        "cell_id": "00027-0edc46df-28ce-4dde-b304-05bb9264f7b6",
        "deepnote_cell_type": "markdown"
      }
    },
    {
      "cell_type": "code",
      "metadata": {
        "ExecuteTime": {
          "end_time": "2020-04-07T15:44:21.068137Z",
          "start_time": "2020-04-07T15:44:20.606061Z"
        },
        "id": "D1XhFPhrzvIt",
        "executionInfo": {
          "status": "ok",
          "timestamp": 1617771396316,
          "user_tz": 240,
          "elapsed": 2306,
          "user": {
            "displayName": "Sebastián Flores",
            "photoUrl": "",
            "userId": "05571959636624750778"
          }
        },
        "cell_id": "00028-e554278a-5422-467d-93d0-3c60c1b97182",
        "deepnote_to_be_reexecuted": false,
        "source_hash": "fb534db5",
        "execution_start": 1619016869972,
        "execution_millis": 957,
        "deepnote_cell_type": "code"
      },
      "source": "# Datasets de entrenamiento.\ntrain = {\n    'anger': pd.read_csv('https://raw.githubusercontent.com/dccuchile/CC6205/master/assignments/assignment_1/data/train/anger-train.txt', sep='\\t', names=['id', 'tweet', 'class', 'sentiment_intensity']),\n    'fear': pd.read_csv('https://raw.githubusercontent.com/dccuchile/CC6205/master/assignments/assignment_1/data/train/fear-train.txt', sep='\\t', names=['id', 'tweet', 'class', 'sentiment_intensity']),\n    'joy': pd.read_csv('https://raw.githubusercontent.com/dccuchile/CC6205/master/assignments/assignment_1/data/train/joy-train.txt', sep='\\t', names=['id', 'tweet', 'class', 'sentiment_intensity']),\n    'sadness': pd.read_csv('https://raw.githubusercontent.com/dccuchile/CC6205/master/assignments/assignment_1/data/train/sadness-train.txt', sep='\\t', names=['id', 'tweet', 'class', 'sentiment_intensity'])\n}\n# Datasets que deberán predecir para la competencia.\ntarget = {\n    'anger': pd.read_csv('https://raw.githubusercontent.com/dccuchile/CC6205/master/assignments/assignment_1/data/target/anger-target.txt', sep='\\t', names=['id', 'tweet', 'class', 'sentiment_intensity'], na_values=['NONE']),\n    'fear': pd.read_csv('https://raw.githubusercontent.com/dccuchile/CC6205/master/assignments/assignment_1/data/target/fear-target.txt', sep='\\t', names=['id', 'tweet', 'class', 'sentiment_intensity'], na_values=['NONE']),\n    'joy': pd.read_csv('https://raw.githubusercontent.com/dccuchile/CC6205/master/assignments/assignment_1/data/target/joy-target.txt', sep='\\t', names=['id', 'tweet', 'class', 'sentiment_intensity'], na_values=['NONE']),\n    'sadness': pd.read_csv('https://raw.githubusercontent.com/dccuchile/CC6205/master/assignments/assignment_1/data/target/sadness-target.txt', sep='\\t', names=['id', 'tweet', 'class', 'sentiment_intensity'], na_values=['NONE'])\n}",
      "execution_count": 4,
      "outputs": []
    },
    {
      "cell_type": "code",
      "metadata": {
        "ExecuteTime": {
          "end_time": "2020-04-07T15:44:21.088707Z",
          "start_time": "2020-04-07T15:44:21.069757Z"
        },
        "colab": {
          "base_uri": "https://localhost:8080/",
          "height": 195
        },
        "id": "flg2Zw2mzvIt",
        "executionInfo": {
          "status": "ok",
          "timestamp": 1617674667239,
          "user_tz": 240,
          "elapsed": 649,
          "user": {
            "displayName": "Sebastián Flores",
            "photoUrl": "",
            "userId": "05571959636624750778"
          }
        },
        "outputId": "70442b2a-9770-4093-9d91-6c741e879185",
        "cell_id": "00029-66e01856-af27-4449-99c4-221132610aae",
        "deepnote_to_be_reexecuted": false,
        "source_hash": "784fa530",
        "execution_start": 1619016874691,
        "execution_millis": 18,
        "deepnote_cell_type": "code"
      },
      "source": "# Ejemplo de algunas filas aleatorias del dataset etiquetado:\ntrain['anger'].sample(5)",
      "execution_count": 5,
      "outputs": [
        {
          "output_type": "execute_result",
          "execution_count": 5,
          "data": {
            "application/vnd.deepnote.dataframe.v2+json": {
              "row_count": 5,
              "column_count": 4,
              "columns": [
                {
                  "name": "id",
                  "dtype": "int64",
                  "stats": {
                    "unique_count": 5,
                    "nan_count": 0,
                    "min": "10137",
                    "max": "10924",
                    "histogram": [
                      {
                        "bin_start": 10137,
                        "bin_end": 10215.7,
                        "count": 1
                      },
                      {
                        "bin_start": 10215.7,
                        "bin_end": 10294.4,
                        "count": 0
                      },
                      {
                        "bin_start": 10294.4,
                        "bin_end": 10373.1,
                        "count": 0
                      },
                      {
                        "bin_start": 10373.1,
                        "bin_end": 10451.8,
                        "count": 1
                      },
                      {
                        "bin_start": 10451.8,
                        "bin_end": 10530.5,
                        "count": 1
                      },
                      {
                        "bin_start": 10530.5,
                        "bin_end": 10609.2,
                        "count": 0
                      },
                      {
                        "bin_start": 10609.2,
                        "bin_end": 10687.9,
                        "count": 1
                      },
                      {
                        "bin_start": 10687.9,
                        "bin_end": 10766.6,
                        "count": 0
                      },
                      {
                        "bin_start": 10766.6,
                        "bin_end": 10845.3,
                        "count": 0
                      },
                      {
                        "bin_start": 10845.3,
                        "bin_end": 10924,
                        "count": 1
                      }
                    ]
                  }
                },
                {
                  "name": "tweet",
                  "dtype": "object",
                  "stats": {
                    "unique_count": 5,
                    "nan_count": 0,
                    "categories": [
                      {
                        "name": "Nurse practitioner: 'you look pretty bad. No offense of course.'  \\n\\nThank you, that really added that spark of positivity I needed today.",
                        "count": 1
                      },
                      {
                        "name": "To'Why can't we brothers protect one another? No one's serious, and it makes me furious. Don't be misled, just think of Fred.' #mayfield",
                        "count": 1
                      },
                      {
                        "name": "3 others",
                        "count": 3
                      }
                    ]
                  }
                },
                {
                  "name": "class",
                  "dtype": "object",
                  "stats": {
                    "unique_count": 1,
                    "nan_count": 0,
                    "categories": [
                      {
                        "name": "anger",
                        "count": 5
                      }
                    ]
                  }
                },
                {
                  "name": "sentiment_intensity",
                  "dtype": "object",
                  "stats": {
                    "unique_count": 1,
                    "nan_count": 0,
                    "categories": [
                      {
                        "name": "medium",
                        "count": 5
                      }
                    ]
                  }
                },
                {
                  "name": "_deepnote_index_column",
                  "dtype": "int64"
                }
              ],
              "rows_top": [
                {
                  "id": 10676,
                  "tweet": "Nurse practitioner: 'you look pretty bad. No offense of course.'  \\n\\nThank you, that really added that spark of positivity I needed today.",
                  "class": "anger",
                  "sentiment_intensity": "medium",
                  "_deepnote_index_column": 676
                },
                {
                  "id": 10137,
                  "tweet": "To'Why can't we brothers protect one another? No one's serious, and it makes me furious. Don't be misled, just think of Fred.' #mayfield",
                  "class": "anger",
                  "sentiment_intensity": "medium",
                  "_deepnote_index_column": 137
                },
                {
                  "id": 10478,
                  "tweet": "Now that @Jasmine_Wrn has snapchat back it's a constant battle to see who can get the ugliest snap of one another 😂🙃 #snap survival",
                  "class": "anger",
                  "sentiment_intensity": "medium",
                  "_deepnote_index_column": 478
                },
                {
                  "id": 10924,
                  "tweet": "Anger, resentment, and hatred are the destroyer of your fortune today.",
                  "class": "anger",
                  "sentiment_intensity": "medium",
                  "_deepnote_index_column": 924
                },
                {
                  "id": 10425,
                  "tweet": "I just love it when people make plans for me without actually including me in this process ",
                  "class": "anger",
                  "sentiment_intensity": "medium",
                  "_deepnote_index_column": 425
                }
              ],
              "rows_bottom": null
            },
            "text/plain": "        id  \\\n676  10676   \n137  10137   \n478  10478   \n924  10924   \n425  10425   \n\n                                                                                                                                           tweet  \\\n676  Nurse practitioner: 'you look pretty bad. No offense of course.'  \\n\\nThank you, that really added that spark of positivity I needed today.   \n137     To'Why can't we brothers protect one another? No one's serious, and it makes me furious. Don't be misled, just think of Fred.' #mayfield   \n478          Now that @Jasmine_Wrn has snapchat back it's a constant battle to see who can get the ugliest snap of one another 😂🙃 #snap survival   \n924                                                                       Anger, resentment, and hatred are the destroyer of your fortune today.   \n425                                                  I just love it when people make plans for me without actually including me in this process    \n\n     class sentiment_intensity  \n676  anger              medium  \n137  anger              medium  \n478  anger              medium  \n924  anger              medium  \n425  anger              medium  ",
            "text/html": "<div>\n<style scoped>\n    .dataframe tbody tr th:only-of-type {\n        vertical-align: middle;\n    }\n\n    .dataframe tbody tr th {\n        vertical-align: top;\n    }\n\n    .dataframe thead th {\n        text-align: right;\n    }\n</style>\n<table border=\"1\" class=\"dataframe\">\n  <thead>\n    <tr style=\"text-align: right;\">\n      <th></th>\n      <th>id</th>\n      <th>tweet</th>\n      <th>class</th>\n      <th>sentiment_intensity</th>\n    </tr>\n  </thead>\n  <tbody>\n    <tr>\n      <th>676</th>\n      <td>10676</td>\n      <td>Nurse practitioner: 'you look pretty bad. No offense of course.'  \\n\\nThank you, that really added that spark of positivity I needed today.</td>\n      <td>anger</td>\n      <td>medium</td>\n    </tr>\n    <tr>\n      <th>137</th>\n      <td>10137</td>\n      <td>To'Why can't we brothers protect one another? No one's serious, and it makes me furious. Don't be misled, just think of Fred.' #mayfield</td>\n      <td>anger</td>\n      <td>medium</td>\n    </tr>\n    <tr>\n      <th>478</th>\n      <td>10478</td>\n      <td>Now that @Jasmine_Wrn has snapchat back it's a constant battle to see who can get the ugliest snap of one another 😂🙃 #snap survival</td>\n      <td>anger</td>\n      <td>medium</td>\n    </tr>\n    <tr>\n      <th>924</th>\n      <td>10924</td>\n      <td>Anger, resentment, and hatred are the destroyer of your fortune today.</td>\n      <td>anger</td>\n      <td>medium</td>\n    </tr>\n    <tr>\n      <th>425</th>\n      <td>10425</td>\n      <td>I just love it when people make plans for me without actually including me in this process</td>\n      <td>anger</td>\n      <td>medium</td>\n    </tr>\n  </tbody>\n</table>\n</div>"
          },
          "metadata": {}
        }
      ]
    },
    {
      "cell_type": "code",
      "metadata": {
        "colab": {
          "base_uri": "https://localhost:8080/",
          "height": 195
        },
        "id": "XB7hb7KH2DFK",
        "executionInfo": {
          "status": "ok",
          "timestamp": 1617673123856,
          "user_tz": 240,
          "elapsed": 644,
          "user": {
            "displayName": "Sebastián Flores",
            "photoUrl": "",
            "userId": "05571959636624750778"
          }
        },
        "outputId": "df15725b-3cbc-4093-da04-1fbb4f8ea7aa",
        "cell_id": "00030-7582b297-1fdf-4163-afa1-b42a0fdf0b90",
        "deepnote_to_be_reexecuted": false,
        "source_hash": "f2738147",
        "execution_start": 1619016878922,
        "execution_millis": 9,
        "deepnote_cell_type": "code"
      },
      "source": "# Ejemplo de algunas filas aleatorias del dataset no etiquetado\ntarget['anger'].sample(5)",
      "execution_count": 6,
      "outputs": [
        {
          "output_type": "execute_result",
          "execution_count": 6,
          "data": {
            "application/vnd.deepnote.dataframe.v2+json": {
              "row_count": 5,
              "column_count": 4,
              "columns": [
                {
                  "name": "id",
                  "dtype": "int64",
                  "stats": {
                    "unique_count": 5,
                    "nan_count": 0,
                    "min": "10993",
                    "max": "11271",
                    "histogram": [
                      {
                        "bin_start": 10993,
                        "bin_end": 11020.8,
                        "count": 1
                      },
                      {
                        "bin_start": 11020.8,
                        "bin_end": 11048.6,
                        "count": 1
                      },
                      {
                        "bin_start": 11048.6,
                        "bin_end": 11076.4,
                        "count": 0
                      },
                      {
                        "bin_start": 11076.4,
                        "bin_end": 11104.2,
                        "count": 0
                      },
                      {
                        "bin_start": 11104.2,
                        "bin_end": 11132,
                        "count": 0
                      },
                      {
                        "bin_start": 11132,
                        "bin_end": 11159.8,
                        "count": 0
                      },
                      {
                        "bin_start": 11159.8,
                        "bin_end": 11187.6,
                        "count": 0
                      },
                      {
                        "bin_start": 11187.6,
                        "bin_end": 11215.4,
                        "count": 0
                      },
                      {
                        "bin_start": 11215.4,
                        "bin_end": 11243.2,
                        "count": 1
                      },
                      {
                        "bin_start": 11243.2,
                        "bin_end": 11271,
                        "count": 2
                      }
                    ]
                  }
                },
                {
                  "name": "tweet",
                  "dtype": "object",
                  "stats": {
                    "unique_count": 5,
                    "nan_count": 0,
                    "categories": [
                      {
                        "name": "@Dominos_UK worst thing is i have confimation from them ",
                        "count": 1
                      },
                      {
                        "name": "The war is right outside your door  #USAToday",
                        "count": 1
                      },
                      {
                        "name": "3 others",
                        "count": 3
                      }
                    ]
                  }
                },
                {
                  "name": "class",
                  "dtype": "object",
                  "stats": {
                    "unique_count": 1,
                    "nan_count": 0,
                    "categories": [
                      {
                        "name": "anger",
                        "count": 5
                      }
                    ]
                  }
                },
                {
                  "name": "sentiment_intensity",
                  "dtype": "float64",
                  "stats": {
                    "unique_count": 0,
                    "nan_count": 5,
                    "min": null,
                    "max": null,
                    "histogram": [
                      {
                        "bin_start": 0,
                        "bin_end": 0.1,
                        "count": 0
                      },
                      {
                        "bin_start": 0.1,
                        "bin_end": 0.2,
                        "count": 0
                      },
                      {
                        "bin_start": 0.2,
                        "bin_end": 0.30000000000000004,
                        "count": 0
                      },
                      {
                        "bin_start": 0.30000000000000004,
                        "bin_end": 0.4,
                        "count": 0
                      },
                      {
                        "bin_start": 0.4,
                        "bin_end": 0.5,
                        "count": 0
                      },
                      {
                        "bin_start": 0.5,
                        "bin_end": 0.6000000000000001,
                        "count": 0
                      },
                      {
                        "bin_start": 0.6000000000000001,
                        "bin_end": 0.7000000000000001,
                        "count": 0
                      },
                      {
                        "bin_start": 0.7000000000000001,
                        "bin_end": 0.8,
                        "count": 0
                      },
                      {
                        "bin_start": 0.8,
                        "bin_end": 0.9,
                        "count": 0
                      },
                      {
                        "bin_start": 0.9,
                        "bin_end": 1,
                        "count": 0
                      }
                    ]
                  }
                },
                {
                  "name": "_deepnote_index_column",
                  "dtype": "int64"
                }
              ],
              "rows_top": [
                {
                  "id": 11271,
                  "tweet": "@Dominos_UK worst thing is i have confimation from them ",
                  "class": "anger",
                  "sentiment_intensity": "nan",
                  "_deepnote_index_column": 330
                },
                {
                  "id": 10993,
                  "tweet": "The war is right outside your door  #USAToday",
                  "class": "anger",
                  "sentiment_intensity": "nan",
                  "_deepnote_index_column": 52
                },
                {
                  "id": 11255,
                  "tweet": "@takumasgirl I fell and heard a snap hffffhj",
                  "class": "anger",
                  "sentiment_intensity": "nan",
                  "_deepnote_index_column": 314
                },
                {
                  "id": 11228,
                  "tweet": "@alexis_maxwell #bitter hahaha just kidding. its crazy tho",
                  "class": "anger",
                  "sentiment_intensity": "nan",
                  "_deepnote_index_column": 287
                },
                {
                  "id": 11040,
                  "tweet": "Using multiple combs simultaneously is what I like to call impressive work!!    ;-O #snap #ohsnap #daaamn",
                  "class": "anger",
                  "sentiment_intensity": "nan",
                  "_deepnote_index_column": 99
                }
              ],
              "rows_bottom": null
            },
            "text/plain": "        id  \\\n330  11271   \n52   10993   \n314  11255   \n287  11228   \n99   11040   \n\n                                                                                                         tweet  \\\n330                                                   @Dominos_UK worst thing is i have confimation from them    \n52                                                               The war is right outside your door  #USAToday   \n314                                                               @takumasgirl I fell and heard a snap hffffhj   \n287                                                 @alexis_maxwell #bitter hahaha just kidding. its crazy tho   \n99   Using multiple combs simultaneously is what I like to call impressive work!!    ;-O #snap #ohsnap #daaamn   \n\n     class  sentiment_intensity  \n330  anger                  NaN  \n52   anger                  NaN  \n314  anger                  NaN  \n287  anger                  NaN  \n99   anger                  NaN  ",
            "text/html": "<div>\n<style scoped>\n    .dataframe tbody tr th:only-of-type {\n        vertical-align: middle;\n    }\n\n    .dataframe tbody tr th {\n        vertical-align: top;\n    }\n\n    .dataframe thead th {\n        text-align: right;\n    }\n</style>\n<table border=\"1\" class=\"dataframe\">\n  <thead>\n    <tr style=\"text-align: right;\">\n      <th></th>\n      <th>id</th>\n      <th>tweet</th>\n      <th>class</th>\n      <th>sentiment_intensity</th>\n    </tr>\n  </thead>\n  <tbody>\n    <tr>\n      <th>330</th>\n      <td>11271</td>\n      <td>@Dominos_UK worst thing is i have confimation from them</td>\n      <td>anger</td>\n      <td>NaN</td>\n    </tr>\n    <tr>\n      <th>52</th>\n      <td>10993</td>\n      <td>The war is right outside your door  #USAToday</td>\n      <td>anger</td>\n      <td>NaN</td>\n    </tr>\n    <tr>\n      <th>314</th>\n      <td>11255</td>\n      <td>@takumasgirl I fell and heard a snap hffffhj</td>\n      <td>anger</td>\n      <td>NaN</td>\n    </tr>\n    <tr>\n      <th>287</th>\n      <td>11228</td>\n      <td>@alexis_maxwell #bitter hahaha just kidding. its crazy tho</td>\n      <td>anger</td>\n      <td>NaN</td>\n    </tr>\n    <tr>\n      <th>99</th>\n      <td>11040</td>\n      <td>Using multiple combs simultaneously is what I like to call impressive work!!    ;-O #snap #ohsnap #daaamn</td>\n      <td>anger</td>\n      <td>NaN</td>\n    </tr>\n  </tbody>\n</table>\n</div>"
          },
          "metadata": {}
        }
      ]
    },
    {
      "cell_type": "markdown",
      "source": "### Analizar los datos \n\nEn esta sección analizaremos el balance de los datos. Para ello se imprime la cantidad de tweets de cada dataset agrupados por la intensidad de sentimiento.",
      "metadata": {
        "id": "q5aNqEfVzvIv",
        "cell_id": "00031-5876b944-09d0-404f-ad8f-3e88d4b9e001",
        "deepnote_cell_type": "markdown"
      }
    },
    {
      "cell_type": "code",
      "metadata": {
        "ExecuteTime": {
          "end_time": "2020-04-07T15:44:21.117633Z",
          "start_time": "2020-04-07T15:44:21.090703Z"
        },
        "colab": {
          "base_uri": "https://localhost:8080/"
        },
        "id": "u5007JRgzvIv",
        "executionInfo": {
          "status": "ok",
          "timestamp": 1617673129039,
          "user_tz": 240,
          "elapsed": 648,
          "user": {
            "displayName": "Sebastián Flores",
            "photoUrl": "",
            "userId": "05571959636624750778"
          }
        },
        "outputId": "3cea360f-9411-4107-9915-d07a9fda5259",
        "cell_id": "00032-fc4393b0-99cd-4b9b-bb2f-fe18895f716f",
        "deepnote_to_be_reexecuted": false,
        "source_hash": "f84026c1",
        "execution_start": 1619016882192,
        "execution_millis": 15,
        "deepnote_cell_type": "code"
      },
      "source": "for dataset_name in train:\n    print(f'Dataset: {dataset_name} \\n', train[dataset_name].groupby(['sentiment_intensity']).size())\n    print('----------------------------------------------------------\\n')",
      "execution_count": 7,
      "outputs": [
        {
          "name": "stdout",
          "text": "Dataset: anger \n sentiment_intensity\nhigh      163\nlow       161\nmedium    617\ndtype: int64\n----------------------------------------------------------\n\nDataset: fear \n sentiment_intensity\nhigh      270\nlow       288\nmedium    699\ndtype: int64\n----------------------------------------------------------\n\nDataset: joy \n sentiment_intensity\nhigh      195\nlow       219\nmedium    488\ndtype: int64\n----------------------------------------------------------\n\nDataset: sadness \n sentiment_intensity\nhigh      197\nlow       210\nmedium    453\ndtype: int64\n----------------------------------------------------------\n\n",
          "output_type": "stream"
        }
      ]
    },
    {
      "cell_type": "code",
      "metadata": {
        "id": "C6Tiy9CvS2gA",
        "executionInfo": {
          "status": "ok",
          "timestamp": 1617771401143,
          "user_tz": 240,
          "elapsed": 1235,
          "user": {
            "displayName": "Sebastián Flores",
            "photoUrl": "",
            "userId": "05571959636624750778"
          }
        },
        "cell_id": "00033-c70907f9-5af1-41a3-a9ba-6c11d345df59",
        "deepnote_to_be_reexecuted": false,
        "source_hash": "86541972",
        "execution_start": 1619016887517,
        "execution_millis": 10,
        "deepnote_cell_type": "code"
      },
      "source": "full_train = pd.concat(train)\nfull_train.reset_index(drop=True, inplace=True)\n\nfull_target = pd.concat(target)\nfull_target.reset_index(drop=True, inplace=True)\n\nfull = pd.concat([full_train, full_target])\nfull.reset_index(drop=True, inplace=True)",
      "execution_count": 8,
      "outputs": []
    },
    {
      "cell_type": "code",
      "metadata": {
        "colab": {
          "base_uri": "https://localhost:8080/",
          "height": 721
        },
        "id": "f3phpED1SqJS",
        "executionInfo": {
          "status": "ok",
          "timestamp": 1617771403583,
          "user_tz": 240,
          "elapsed": 1919,
          "user": {
            "displayName": "Sebastián Flores",
            "photoUrl": "",
            "userId": "05571959636624750778"
          }
        },
        "outputId": "90204b30-c629-49bd-ee46-32886e43bec5",
        "cell_id": "00034-69f6e6c5-3170-4f18-9859-4b7dbface2bc",
        "deepnote_to_be_reexecuted": false,
        "source_hash": "5b4c7924",
        "execution_millis": 159,
        "execution_start": 1619017031554,
        "deepnote_cell_type": "code"
      },
      "source": "# NO HAY LINKS EN LOS TWEETS\nprint('Cantidad de links en los tweets:')\nprint(full.tweet.str.contains(r\"(?i)\\b((?:https?://|www\\d{0,3}[.]|[a-z0-9.\\-]+[.][a-z]{2,4}/)(?:[^\\s()<>]+|\\(([^\\s()<>]+|(\\([^\\s()<>]+\\)))*\\))+(?:\\(([^\\s()<>]+|(\\([^\\s()<>]+\\)))*\\)|[^\\s`!()\\[\\]{};:'\\\".,<>?«»“”‘’]))\").sum())\nprint(full.tweet.str.contains(r\"(?i)\\b((?:http?://|www\\d{0,3}[.]|[a-z0-9.\\-]+[.][a-z]{2,4}/)(?:[^\\s()<>]+|\\(([^\\s()<>]+|(\\([^\\s()<>]+\\)))*\\))+(?:\\(([^\\s()<>]+|(\\([^\\s()<>]+\\)))*\\)|[^\\s`!()\\[\\]{};:'\\\".,<>?«»“”‘’]))\").sum(), '\\n\\n')\n\n# NO HAY INDICADORES DE RETWEET\nprint('Hay algún indicador de retweet?')\nprint(full.tweet.str.contains('RT @').sum())\nprint(full.tweet.str.contains('Rt @').sum())\nprint(full.tweet.str.contains('rt @').sum())\nprint(full.tweet.str.contains('rT @').sum())\n# no corresponde a retweet\nprint(full.tweet[full.tweet.str.contains('RT @')], '\\n\\n')\n\n# HAY MAILS DENTRO DE LOS TWEETS\nprint('Hay algun mail?')\nprint(full.tweet.str.contains(r'\\\"?([-a-zA-Z0-9.`?{}]+@\\w+\\.\\w+)\\\"?').sum())\n# full[full.tweet.str.contains(r'\\\"?([-a-zA-Z0-9.`?{}]+@\\w+\\.\\w+)\\\"?')]\n\n# HAY USUARIOS CON PARENTESIS\nprint('Hay usuarios con paréntesis')\n# full[full.tweet.str.contains(r'([(@]+[A-Za-z0-9 ñáéíóú]+[)]+)')]",
      "execution_count": 10,
      "outputs": [
        {
          "name": "stdout",
          "text": "Cantidad de links en los tweets:\n0\n0 \n\n\nHay algún indicador de retweet?\n1\n1\n3\n0\n464    @DRUDGE_REPORT @FoxNews good thing the FBI didn't offend them!\nName: tweet, dtype: object \n\n\nHay algun mail?\n5\nHay usuarios con paréntesis\n/shared-libs/python3.7/py/lib/python3.7/site-packages/pandas/core/strings/accessor.py:101: UserWarning: This pattern has match groups. To actually get the groups, use str.extract.\n  return func(self, *args, **kwargs)\n",
          "output_type": "stream"
        }
      ]
    },
    {
      "cell_type": "code",
      "metadata": {
        "tags": [],
        "cell_id": "00035-511a8d36-2f56-4738-94d2-c23c6ebeb596",
        "deepnote_to_be_reexecuted": false,
        "source_hash": "c30ae65",
        "execution_millis": 2,
        "execution_start": 1619017308236,
        "deepnote_cell_type": "code"
      },
      "source": "# full[full.tweet.str.contains(r'\\\"?([-a-zA-Z0-9.`?{}]+@\\w+\\.\\w+)\\\"?')]\n# full[full.tweet.str.contains(r'([(@]+[A-Za-z0-9 ñáéíóú]+[)]+)')]",
      "execution_count": 18,
      "outputs": []
    },
    {
      "cell_type": "code",
      "metadata": {
        "id": "9uae5IeJUjR-",
        "cell_id": "00035-68acd5fc-7b83-4c80-be99-17b709157d2d",
        "deepnote_cell_type": "code"
      },
      "source": "# TweetTokenizer().tokenize(\"Profit are from 5-20% per day to 100-300% per month.Don't hesitate to contact us for the more results! info@fxventury.com\")\n# TweetTokenizer().tokenize(\"Lost Frequencies/Janieck Devy - Reality (Gestort Aber Geil Remix)' is raging at ShoutDRIVE!\")\n# TweetTokenizer().tokenize(\"What's a Kali's kitten? [She asked, a frown curling on her fair skinned forehead as he showed her the scar] A cat did - (@ScarredTiger)\")",
      "execution_count": null,
      "outputs": []
    },
    {
      "cell_type": "markdown",
      "source": "### Custom Features \n\nPara crear features personalizadas implementaremos nuestros propios Transformers (estandar de scikit para crear nuevas features entre otras cosas). Para esto:\n\n1. Creamos nuestra clase Transformer extendiendo BaseEstimator y TransformerMixin. En este ejemplo, definiremos `CharsCountTransformer` que cuenta caracteres relevantes ('!', '?', '#', '@') en los tweets.\n2. Definimos una función cómo `get_relevant_chars` que opera por cada tweet y retorna un arreglo.\n3. Hacemos un override de la función `transform` en donde iteramos por cada tweet, llamamos a la función que hicimos antes y agregamos sus resultados a un arreglo. Finalmente lo retornamos.\n\nEsto nos facilitará el trabajo mas adelante. Una Guia completa de las transformaciones predefinidas en scikit pueden encontrarla [aquí](https://scikit-learn.org/stable/data_transforms.html).\n\n",
      "metadata": {
        "id": "stZ6ig5hzvIv",
        "cell_id": "00036-c55c1b9f-b285-475b-b631-3a32306b588d",
        "deepnote_cell_type": "markdown"
      }
    },
    {
      "cell_type": "code",
      "metadata": {
        "id": "fV-HL4ZoDoK1",
        "executionInfo": {
          "status": "ok",
          "timestamp": 1617771419279,
          "user_tz": 240,
          "elapsed": 649,
          "user": {
            "displayName": "Sebastián Flores",
            "photoUrl": "",
            "userId": "05571959636624750778"
          }
        },
        "cell_id": "00037-8ff8737c-6c78-4ee0-9c25-6683eb977fb2",
        "deepnote_to_be_reexecuted": false,
        "source_hash": "b1f5af0f",
        "execution_start": 1619017337166,
        "execution_millis": 0,
        "deepnote_cell_type": "code"
      },
      "source": "class CharsCountTransformer(BaseEstimator, TransformerMixin):\n    def get_relevant_chars(self, tweet):\n        num_hashtags = tweet.count('#')\n        num_exclamations = tweet.count('!')\n        num_interrogations = tweet.count('?')\n        num_at = tweet.count('@')\n         \n        return [num_hashtags, num_exclamations, num_interrogations, num_at]\n\n    def transform(self, X, y=None):\n        chars = []\n        for tweet in X:\n            chars.append(self.get_relevant_chars(tweet))\n        return np.array(chars)\n\n    def fit(self, X, y=None):\n        return self",
      "execution_count": 19,
      "outputs": []
    },
    {
      "cell_type": "code",
      "metadata": {
        "colab": {
          "base_uri": "https://localhost:8080/"
        },
        "id": "0r1r494PEZwY",
        "executionInfo": {
          "status": "ok",
          "timestamp": 1617729444118,
          "user_tz": 240,
          "elapsed": 2232,
          "user": {
            "displayName": "Sebastián Flores",
            "photoUrl": "",
            "userId": "05571959636624750778"
          }
        },
        "outputId": "b94f3028-ebb7-41dd-cdf8-44ecd72a3429",
        "cell_id": "00038-778ef7b7-31ba-457f-9c91-d6f2cac2289a",
        "deepnote_to_be_reexecuted": false,
        "source_hash": "6dac32e3",
        "execution_start": 1619017345389,
        "execution_millis": 12,
        "deepnote_cell_type": "code"
      },
      "source": "# Veamos que sucede si ejecutamos el transformer\nsample = train['anger'].sample(5, random_state=1).tweet\n# train['anger'][train['anger'].tweet.str.contains(\"http:\")]\nsample_features = CharsCountTransformer().transform(sample)\nprint(sample)\nprint(sample_features)\nprint(sample_features.ndim)\nprint(sample_features.shape)",
      "execution_count": 20,
      "outputs": [
        {
          "name": "stdout",
          "text": "604                                                     @everycolorbot more like every color looks the same #triggered #colorblind \n527    @thomeagle Just to help maintain and boost our status as a world class centre for education, culture and tolerance. #outrage\n894                                      i live and die for mchanzo honeymoon crashing and burning the second they move in together\n195          @RealBD_ @ReyesAverie 47 unarmed blacks killed by white cops in 2015. That many die every month in Chicago wheres the \n422                                                                                    Drop Snapchat names #bored #snap #swap #pics\nName: tweet, dtype: object\n[[2 0 0 1]\n [1 0 0 1]\n [0 0 0 0]\n [0 0 0 2]\n [4 0 0 0]]\n2\n(5, 4)\n",
          "output_type": "stream"
        }
      ]
    },
    {
      "cell_type": "code",
      "metadata": {
        "colab": {
          "base_uri": "https://localhost:8080/"
        },
        "id": "76GX6znKFas7",
        "executionInfo": {
          "status": "ok",
          "timestamp": 1617728246906,
          "user_tz": 240,
          "elapsed": 2158,
          "user": {
            "displayName": "Sebastián Flores",
            "photoUrl": "",
            "userId": "05571959636624750778"
          }
        },
        "outputId": "732b59d8-88c7-4069-80bf-605759324cd9",
        "cell_id": "00039-19a69d1c-83d9-400c-8aef-43a148a110ad",
        "deepnote_cell_type": "code"
      },
      "source": "a = np.array([['este es un ejemplo de un tweet'],\n              ['este es el segundo ejemplo'],\n              ['tercer tweet']])\na\nb = pd.DataFrame(a, columns=['tweet'])\nb\n# c = b.to_numpy()\nc=np.array(b)\n# c = b.to_numpy(dtype=list)\nc",
      "execution_count": 51,
      "outputs": [
        {
          "output_type": "execute_result",
          "data": {
            "text/plain": "array([['este es un ejemplo de un tweet'],\n       ['este es el segundo ejemplo'],\n       ['tercer tweet']], dtype=object)"
          },
          "metadata": {
            "tags": []
          },
          "execution_count": 51
        }
      ]
    },
    {
      "cell_type": "code",
      "metadata": {
        "colab": {
          "base_uri": "https://localhost:8080/",
          "height": 35
        },
        "id": "vD62NiJLJdR_",
        "executionInfo": {
          "status": "ok",
          "timestamp": 1617745586125,
          "user_tz": 240,
          "elapsed": 696,
          "user": {
            "displayName": "Sebastián Flores",
            "photoUrl": "",
            "userId": "05571959636624750778"
          }
        },
        "outputId": "a80ff51c-8f49-4672-9647-3ef99bb4144d",
        "cell_id": "00041-5a08004d-6997-4de0-a76e-dd6d8a2ebb42",
        "deepnote_cell_type": "code"
      },
      "source": "re.sub(r\"(?<=^|(?<=[^a-zA-Z0-9-_\\.]))@([A-Za-z0-9_]+)\", \"\", \"What's a Kali's kitten? [She asked, a frown curling on her fair skinned forehead as he showed her the scar] A cat did - (@ScarredTiger)\")",
      "execution_count": 16,
      "outputs": [
        {
          "output_type": "execute_result",
          "data": {
            "application/vnd.google.colaboratory.intrinsic+json": {
              "type": "string"
            },
            "text/plain": "\"What's a Kali's kitten? [She asked, a frown curling on her fair skinned forehead as he showed her the scar] A cat did - ()\""
          },
          "metadata": {
            "tags": []
          },
          "execution_count": 16
        }
      ]
    },
    {
      "cell_type": "code",
      "metadata": {
        "ExecuteTime": {
          "end_time": "2020-04-07T15:44:21.128600Z",
          "start_time": "2020-04-07T15:44:21.119624Z"
        },
        "id": "tNPB8zc9zvIw",
        "executionInfo": {
          "status": "ok",
          "timestamp": 1617775968348,
          "user_tz": 240,
          "elapsed": 627,
          "user": {
            "displayName": "Sebastián Flores",
            "photoUrl": "",
            "userId": "05571959636624750778"
          }
        },
        "cell_id": "00042-33547725-43c3-4392-85f6-551c3fcac231",
        "deepnote_to_be_reexecuted": false,
        "source_hash": "41239069",
        "execution_millis": 0,
        "execution_start": 1619021300748,
        "deepnote_cell_type": "code"
      },
      "source": "class Preprocessing(BaseEstimator, TransformerMixin):\n    # def __init__(BaseEstimator, TransformerMixin):\n        # self. = \n    def tokenize(self, tweet):\n        # Elimina los nombres de usuario\n        tweet = re.sub(r\"(?<=^|(?<=[^a-zA-Z0-9-_\\.]))@([A-Za-z0-9_]+)\", \"\", tweet)\n        \n        # Elimina Emails\n        tweet = re.sub(r'\\\"?([-a-zA-Z0-9.`?{}]+@\\w+\\.\\w+)\\\"?', \"\", tweet)\n\n        # tokeniza para aplicar stemming y eliminar stopwords\n        tweet = TweetTokenizer().tokenize(tweet)\n        punct2 = punct.copy()\n        punct2.remove('!')\n        punct2.remove('?')\n        tweet = [stemmer.stem(i) for i in tweet if i not in stop_words and i not in punct2]\n\n        return ' '.join(tweet)\n\n    def transform(self, X, y=None):\n        chars = []\n        for tweet in X:\n            chars.append(self.tokenize(tweet))\n        # return pd.DataFrame(np.array(chars), columns=['tweet'])\n        return np.array(chars)\n\n    def fit(self, X, y=None):\n        return self",
      "execution_count": 69,
      "outputs": []
    },
    {
      "cell_type": "code",
      "metadata": {
        "tags": [],
        "cell_id": "00044-680c33e6-46e1-430c-a7dd-1d1535e8a8e4",
        "deepnote_to_be_reexecuted": false,
        "source_hash": "2bebb22e",
        "execution_millis": 15,
        "execution_start": 1619021841602,
        "deepnote_cell_type": "code"
      },
      "source": "tweet = TweetTokenizer().tokenize('hola @ke # paza #estoy enojado! ? noc¿')\n# punct2.remove('!')\n# punct2.remove('?')\n\n[stemmer.stem(i) for i in tweet if i not in stop_words and i not in punct2]",
      "execution_count": 92,
      "outputs": [
        {
          "output_type": "execute_result",
          "execution_count": 92,
          "data": {
            "text/plain": "['hola', '@ke', 'paza', '#estoy', 'enojado', '!', '?', 'noc', '¿']"
          },
          "metadata": {}
        }
      ]
    },
    {
      "cell_type": "code",
      "metadata": {
        "tags": [],
        "cell_id": "00044-2556ae81-4db5-4130-bef1-fc17bc9e768f",
        "deepnote_to_be_reexecuted": false,
        "source_hash": "8c83660e",
        "execution_millis": 13,
        "execution_start": 1619024361131,
        "deepnote_cell_type": "code"
      },
      "source": "tweet = TweetTokenizer().tokenize('holaaa @ke # paza estoy enojado#! ? noc¿')\nprint(tweet)\nprint([1 if re.match(\"^(a)+.\", t) else 0 for t in tweet])\nprint([1 if re.match('(?:a{2,})*', t) else 0 for t in tweet])\nprint([re.sub('(?:a{2,})*', '', t) for t in tweet])",
      "execution_count": 205,
      "outputs": [
        {
          "name": "stdout",
          "text": "['holaaa', '@ke', '#', 'paza', 'estoy', 'enojado', '#', '!', '?', 'noc', '¿']\n[0, 0, 0, 0, 0, 0, 0, 0, 0, 0, 0]\n[1, 1, 1, 1, 1, 1, 1, 1, 1, 1, 1]\n['hol', '@ke', '#', 'paza', 'estoy', 'enojado', '#', '!', '?', 'noc', '¿']\n",
          "output_type": "stream"
        }
      ]
    },
    {
      "cell_type": "code",
      "metadata": {
        "tags": [],
        "cell_id": "00044-827b9361-a98e-42a6-a77b-00514acd3246",
        "deepnote_to_be_reexecuted": false,
        "source_hash": "c17f16d3",
        "execution_millis": 10,
        "execution_start": 1619023312371,
        "deepnote_cell_type": "code"
      },
      "source": "for t in tweet:\n    for tres in listatres:# ['aaa']\n        if re.match(tres, t):\n            tres += 1",
      "execution_count": 114,
      "outputs": [
        {
          "output_type": "error",
          "ename": "SyntaxError",
          "evalue": "invalid syntax (<ipython-input-114-528f18a53572>, line 5)",
          "traceback": [
            "\u001b[0;36m  File \u001b[0;32m\"<ipython-input-114-528f18a53572>\"\u001b[0;36m, line \u001b[0;32m5\u001b[0m\n\u001b[0;31m    if re.match(tres, t)\u001b[0m\n\u001b[0m                        ^\u001b[0m\n\u001b[0;31mSyntaxError\u001b[0m\u001b[0;31m:\u001b[0m invalid syntax\n"
          ]
        }
      ]
    },
    {
      "cell_type": "code",
      "metadata": {
        "tags": [],
        "cell_id": "00045-5e6f38ea-1c6c-4b36-8d82-5af7995eb101",
        "deepnote_to_be_reexecuted": false,
        "source_hash": "f12b6c3d",
        "execution_millis": 135,
        "execution_start": 1619023083092,
        "deepnote_cell_type": "code"
      },
      "source": "train['anger']",
      "execution_count": 106,
      "outputs": [
        {
          "output_type": "execute_result",
          "execution_count": 106,
          "data": {
            "application/vnd.deepnote.dataframe.v2+json": {
              "row_count": 941,
              "column_count": 4,
              "columns": [
                {
                  "name": "id",
                  "dtype": "int64",
                  "stats": {
                    "unique_count": 941,
                    "nan_count": 0,
                    "min": "10000",
                    "max": "10940",
                    "histogram": [
                      {
                        "bin_start": 10000,
                        "bin_end": 10094,
                        "count": 94
                      },
                      {
                        "bin_start": 10094,
                        "bin_end": 10188,
                        "count": 94
                      },
                      {
                        "bin_start": 10188,
                        "bin_end": 10282,
                        "count": 94
                      },
                      {
                        "bin_start": 10282,
                        "bin_end": 10376,
                        "count": 94
                      },
                      {
                        "bin_start": 10376,
                        "bin_end": 10470,
                        "count": 94
                      },
                      {
                        "bin_start": 10470,
                        "bin_end": 10564,
                        "count": 94
                      },
                      {
                        "bin_start": 10564,
                        "bin_end": 10658,
                        "count": 94
                      },
                      {
                        "bin_start": 10658,
                        "bin_end": 10752,
                        "count": 94
                      },
                      {
                        "bin_start": 10752,
                        "bin_end": 10846,
                        "count": 94
                      },
                      {
                        "bin_start": 10846,
                        "bin_end": 10940,
                        "count": 95
                      }
                    ]
                  }
                },
                {
                  "name": "tweet",
                  "dtype": "object",
                  "stats": {
                    "unique_count": 941,
                    "nan_count": 0,
                    "categories": [
                      {
                        "name": "How the fu*k! Who the heck! moved my fridge!... should I knock the landlord door. #angry #mad ##",
                        "count": 1
                      },
                      {
                        "name": "So my Indian Uber driver just called someone the N word. If I wasn't in a moving vehicle I'd have jumped out #disgusted ",
                        "count": 1
                      },
                      {
                        "name": "939 others",
                        "count": 939
                      }
                    ]
                  }
                },
                {
                  "name": "class",
                  "dtype": "object",
                  "stats": {
                    "unique_count": 1,
                    "nan_count": 0,
                    "categories": [
                      {
                        "name": "anger",
                        "count": 941
                      }
                    ]
                  }
                },
                {
                  "name": "sentiment_intensity",
                  "dtype": "object",
                  "stats": {
                    "unique_count": 3,
                    "nan_count": 0,
                    "categories": [
                      {
                        "name": "medium",
                        "count": 617
                      },
                      {
                        "name": "high",
                        "count": 163
                      },
                      {
                        "name": "low",
                        "count": 161
                      }
                    ]
                  }
                },
                {
                  "name": "_deepnote_index_column",
                  "dtype": "int64"
                }
              ],
              "rows_top": [
                {
                  "id": 10000,
                  "tweet": "How the fu*k! Who the heck! moved my fridge!... should I knock the landlord door. #angry #mad ##",
                  "class": "anger",
                  "sentiment_intensity": "high",
                  "_deepnote_index_column": 0
                },
                {
                  "id": 10001,
                  "tweet": "So my Indian Uber driver just called someone the N word. If I wasn't in a moving vehicle I'd have jumped out #disgusted ",
                  "class": "anger",
                  "sentiment_intensity": "high",
                  "_deepnote_index_column": 1
                },
                {
                  "id": 10002,
                  "tweet": "@DPD_UK I asked for my parcel to be delivered to a pick up store not my address #fuming #poorcustomerservice",
                  "class": "anger",
                  "sentiment_intensity": "high",
                  "_deepnote_index_column": 2
                },
                {
                  "id": 10003,
                  "tweet": "so ef whichever butt wipe pulled the fire alarm in davis bc I was sound asleep #pissed #angry #upset #tired #sad #tired #hangry ######",
                  "class": "anger",
                  "sentiment_intensity": "high",
                  "_deepnote_index_column": 3
                },
                {
                  "id": 10004,
                  "tweet": "Don't join @BTCare they put the phone down on you, talk over you and are rude. Taking money out of my acc willynilly! #fuming",
                  "class": "anger",
                  "sentiment_intensity": "high",
                  "_deepnote_index_column": 4
                },
                {
                  "id": 10005,
                  "tweet": "My blood is boiling",
                  "class": "anger",
                  "sentiment_intensity": "high",
                  "_deepnote_index_column": 5
                },
                {
                  "id": 10006,
                  "tweet": "When you've still got a whole season of Wentworth to watch and a stupid cunt in work ruins it for us 😭😭 @__KirstyGA #raging #oldcunt",
                  "class": "anger",
                  "sentiment_intensity": "high",
                  "_deepnote_index_column": 6
                },
                {
                  "id": 10007,
                  "tweet": "@bt_uk why does tracking show my equipment delivered, when it wasn't? Why is my service suddenly delayed? We've already 3 weeks. #fuming",
                  "class": "anger",
                  "sentiment_intensity": "high",
                  "_deepnote_index_column": 7
                },
                {
                  "id": 10008,
                  "tweet": "@TeamShanny legit why i am so furious with him, people are such fucking idiots.",
                  "class": "anger",
                  "sentiment_intensity": "high",
                  "_deepnote_index_column": 8
                },
                {
                  "id": 10009,
                  "tweet": "How is it suppose to work if you do that? Wtf dude? Thanks for pissing me off. ",
                  "class": "anger",
                  "sentiment_intensity": "high",
                  "_deepnote_index_column": 9
                },
                {
                  "id": 10010,
                  "tweet": "im so mad about power rangers. im incensed. im furious.",
                  "class": "anger",
                  "sentiment_intensity": "high",
                  "_deepnote_index_column": 10
                },
                {
                  "id": 10011,
                  "tweet": "Wont use using @mothercareuk @Mothercarehelp again!! These guys cant get nothing right!! #fuming",
                  "class": "anger",
                  "sentiment_intensity": "high",
                  "_deepnote_index_column": 11
                },
                {
                  "id": 10012,
                  "tweet": "Bitches aggravate like what inspires you to be the biggest cunt known to man kind?",
                  "class": "anger",
                  "sentiment_intensity": "high",
                  "_deepnote_index_column": 12
                },
                {
                  "id": 10013,
                  "tweet": "Why does @dapperlaughs have to come to Glasgow on a night I am working. I am fucking gutted, been waiting for an appearance for ages #raging",
                  "class": "anger",
                  "sentiment_intensity": "high",
                  "_deepnote_index_column": 13
                },
                {
                  "id": 10014,
                  "tweet": "Fuking fuming 😤",
                  "class": "anger",
                  "sentiment_intensity": "high",
                  "_deepnote_index_column": 14
                },
                {
                  "id": 10015,
                  "tweet": "Zero help from @ups customer service. Just pushing the buck back and forth and promising callbacks that don’t happen. #anger #loathing",
                  "class": "anger",
                  "sentiment_intensity": "high",
                  "_deepnote_index_column": 15
                },
                {
                  "id": 10016,
                  "tweet": "@ArizonaCoyotes not to mention the GRA guy stops me but let's the 2 ppl in front of me go. WTF. My blood is boiling.",
                  "class": "anger",
                  "sentiment_intensity": "high",
                  "_deepnote_index_column": 16
                },
                {
                  "id": 10017,
                  "tweet": "I hate my lawn mower. If it had a soul, I'd condemn it to the fiery pits of Hell.",
                  "class": "anger",
                  "sentiment_intensity": "high",
                  "_deepnote_index_column": 17
                },
                {
                  "id": 10018,
                  "tweet": "why are people so offended by kendall he ends photo shoot like seriously shut the fuck up",
                  "class": "anger",
                  "sentiment_intensity": "high",
                  "_deepnote_index_column": 18
                },
                {
                  "id": 10019,
                  "tweet": "I'm about to block everyone everywhere posting about the storm. I think everyone is aware of the damn rain and what not so quit. #damn ",
                  "class": "anger",
                  "sentiment_intensity": "high",
                  "_deepnote_index_column": 19
                },
                {
                  "id": 10020,
                  "tweet": "Making my buddy cry !! Bitch wait for revenge 🤗👌🏻",
                  "class": "anger",
                  "sentiment_intensity": "high",
                  "_deepnote_index_column": 20
                },
                {
                  "id": 10021,
                  "tweet": "Bes! You don't just tell a true blooded hoopjunkie to switch a f*c@n' team that juz destroyed your own team. You juz don't! #insult",
                  "class": "anger",
                  "sentiment_intensity": "high",
                  "_deepnote_index_column": 21
                },
                {
                  "id": 10022,
                  "tweet": "I got a NO RESPONSE again from an #irate customer of #amazon 😞😞\\nwhy can't they understand that it's not always amazon fault..\\n#carrierfault",
                  "class": "anger",
                  "sentiment_intensity": "high",
                  "_deepnote_index_column": 22
                },
                {
                  "id": 10023,
                  "tweet": "Tasers immobilize, if you taser someone why the fuck do you need to shoot them one second later?! This is really sick! #rage #wtf  #murder",
                  "class": "anger",
                  "sentiment_intensity": "high",
                  "_deepnote_index_column": 23
                },
                {
                  "id": 10024,
                  "tweet": "@LeKingCoq @MistaAggy @GiovanniiDC The way my blood is boiling, little bastards!",
                  "class": "anger",
                  "sentiment_intensity": "high",
                  "_deepnote_index_column": 24
                },
                {
                  "id": 10025,
                  "tweet": "Actually fuming I have nothing to wear Saturday",
                  "class": "anger",
                  "sentiment_intensity": "high",
                  "_deepnote_index_column": 25
                },
                {
                  "id": 10026,
                  "tweet": ".@DIVAmagazine than straight people. Even the arse straight guys who think that means a threesome is fine. #angry #fuming",
                  "class": "anger",
                  "sentiment_intensity": "high",
                  "_deepnote_index_column": 26
                },
                {
                  "id": 10027,
                  "tweet": "Bloody parking ticket 😒💸 #fuming",
                  "class": "anger",
                  "sentiment_intensity": "high",
                  "_deepnote_index_column": 27
                },
                {
                  "id": 10028,
                  "tweet": "You ever just find that the people around you really irritate you sometimes? That's me right now 😒",
                  "class": "anger",
                  "sentiment_intensity": "high",
                  "_deepnote_index_column": 28
                },
                {
                  "id": 10029,
                  "tweet": "I get so angry at people that don't know that you don't have a stop sign on Francis and you do at Foster #road ",
                  "class": "anger",
                  "sentiment_intensity": "high",
                  "_deepnote_index_column": 29
                },
                {
                  "id": 10030,
                  "tweet": "This fuck you is boiling up inside, its not gonna be good when I let it out.",
                  "class": "anger",
                  "sentiment_intensity": "high",
                  "_deepnote_index_column": 30
                },
                {
                  "id": 10031,
                  "tweet": "@VodafoneUKhelp @VodafoneUK wow!! My bill is £44.77 and hav a text from u to prove that and you have taken £148!!!!! #swines #fuming #con!",
                  "class": "anger",
                  "sentiment_intensity": "high",
                  "_deepnote_index_column": 31
                },
                {
                  "id": 10032,
                  "tweet": "I blame the whole season on Natalie! The season would have been so different had she not turned her back on her alliance! #pissed ",
                  "class": "anger",
                  "sentiment_intensity": "high",
                  "_deepnote_index_column": 32
                },
                {
                  "id": 10033,
                  "tweet": "Since the 'update' my @iPhone loses power nearly 40% faster.  #furious",
                  "class": "anger",
                  "sentiment_intensity": "high",
                  "_deepnote_index_column": 33
                },
                {
                  "id": 10034,
                  "tweet": "@bringyouhome2 I'm about to fly into a fit of rage it's not FAIR",
                  "class": "anger",
                  "sentiment_intensity": "high",
                  "_deepnote_index_column": 34
                },
                {
                  "id": 10035,
                  "tweet": "Unbelievable takes 10 minutes to get through to @BarclaysUK then there's a fault and the call hangs up #fuming #treatcustomersfairly",
                  "class": "anger",
                  "sentiment_intensity": "high",
                  "_deepnote_index_column": 35
                },
                {
                  "id": 10036,
                  "tweet": "@ggreenwald @SusanSarandon We are blaming 5% of the fucking idiots who are putting the World in the middle of their tantrums. You are one.",
                  "class": "anger",
                  "sentiment_intensity": "high",
                  "_deepnote_index_column": 36
                },
                {
                  "id": 10037,
                  "tweet": "@SunandBeachBum 'you people' infuriate me!",
                  "class": "anger",
                  "sentiment_intensity": "high",
                  "_deepnote_index_column": 37
                },
                {
                  "id": 10038,
                  "tweet": "@rtrn94 Mine is that the party did decide but the party has been slowly transformed into a vengeful hell-cult of white male resentment",
                  "class": "anger",
                  "sentiment_intensity": "high",
                  "_deepnote_index_column": 38
                },
                {
                  "id": 10039,
                  "tweet": "So #angry about my @WishShopping order. 6 #months ago I placed an order of over $500. Card billed. Never #received \\n#disappointing",
                  "class": "anger",
                  "sentiment_intensity": "high",
                  "_deepnote_index_column": 39
                },
                {
                  "id": 10040,
                  "tweet": "Still can't log into my fucking Snapchat#Snapchat #snap",
                  "class": "anger",
                  "sentiment_intensity": "high",
                  "_deepnote_index_column": 40
                },
                {
                  "id": 10041,
                  "tweet": "@ThomsonCares Sam- yes we have! Not helpful at all! We need this sorting ASAP! You keep promising stuff that doesn't happen!!!! #fuming",
                  "class": "anger",
                  "sentiment_intensity": "high",
                  "_deepnote_index_column": 41
                },
                {
                  "id": 10042,
                  "tweet": "SOMEONE LET SNAKES IN MY HOUSE, I BET IT @Ya_Boi_Huck I KILL THAT BUGGER WHEN I GET MY HANDS ON HIM #rage #HuckFP2",
                  "class": "anger",
                  "sentiment_intensity": "high",
                  "_deepnote_index_column": 42
                },
                {
                  "id": 10043,
                  "tweet": "so ef whichever butt wipe pulled the fire alarm in davis bc I was sound asleep #pissed  #upset #tired #sad #tired #hangry ######",
                  "class": "anger",
                  "sentiment_intensity": "high",
                  "_deepnote_index_column": 43
                },
                {
                  "id": 10044,
                  "tweet": "Why does @dapperlaughs have to come to Glasgow on a night I am working. I am fucking gutted, been waiting for an appearance for ages ",
                  "class": "anger",
                  "sentiment_intensity": "high",
                  "_deepnote_index_column": 44
                },
                {
                  "id": 10045,
                  "tweet": "i feel furious",
                  "class": "anger",
                  "sentiment_intensity": "high",
                  "_deepnote_index_column": 45
                },
                {
                  "id": 10046,
                  "tweet": "Some Mexican ladies irritate the fuck outta me. Have a their own lil preschool of fucking kids for the welfare &amp; allllat smh.",
                  "class": "anger",
                  "sentiment_intensity": "high",
                  "_deepnote_index_column": 46
                },
                {
                  "id": 10047,
                  "tweet": "Still can't log into my fucking Snapchat #Snapchat ",
                  "class": "anger",
                  "sentiment_intensity": "high",
                  "_deepnote_index_column": 47
                },
                {
                  "id": 10048,
                  "tweet": "I blame the whole season on Natalie! The season would have been so different had she not turned her back on her alliance! #pissed #bitter",
                  "class": "anger",
                  "sentiment_intensity": "high",
                  "_deepnote_index_column": 48
                },
                {
                  "id": 10049,
                  "tweet": "People irritate my MF soul",
                  "class": "anger",
                  "sentiment_intensity": "high",
                  "_deepnote_index_column": 49
                },
                {
                  "id": 10050,
                  "tweet": "Im so angry 😂🙃",
                  "class": "anger",
                  "sentiment_intensity": "high",
                  "_deepnote_index_column": 50
                },
                {
                  "id": 10051,
                  "tweet": "People fuckin irritate me",
                  "class": "anger",
                  "sentiment_intensity": "high",
                  "_deepnote_index_column": 51
                },
                {
                  "id": 10052,
                  "tweet": "@leesyatt you are a cruel, cruel man. #therewillbeblood #revenge",
                  "class": "anger",
                  "sentiment_intensity": "high",
                  "_deepnote_index_column": 52
                },
                {
                  "id": 10053,
                  "tweet": "That way ur so angry you can literally feel ur blood boiling",
                  "class": "anger",
                  "sentiment_intensity": "high",
                  "_deepnote_index_column": 53
                },
                {
                  "id": 10054,
                  "tweet": "@KatzeAnilothei this amount of greedy mooching makes me snarl.",
                  "class": "anger",
                  "sentiment_intensity": "high",
                  "_deepnote_index_column": 54
                },
                {
                  "id": 10055,
                  "tweet": "My mind is raging and i just want to end it all",
                  "class": "anger",
                  "sentiment_intensity": "high",
                  "_deepnote_index_column": 55
                },
                {
                  "id": 10056,
                  "tweet": "Absolutely fuming that some woman jumped into my prebooked taxi and drove off 😡",
                  "class": "anger",
                  "sentiment_intensity": "high",
                  "_deepnote_index_column": 56
                },
                {
                  "id": 10057,
                  "tweet": "I'm nothing but a hateful and bitter fag",
                  "class": "anger",
                  "sentiment_intensity": "high",
                  "_deepnote_index_column": 57
                },
                {
                  "id": 10058,
                  "tweet": "@FitnessFirstAU something needs to be done about people hogging machines - nobody can use 3 machines at one time! #angry #notfair #whypay",
                  "class": "anger",
                  "sentiment_intensity": "high",
                  "_deepnote_index_column": 58
                },
                {
                  "id": 10059,
                  "tweet": "@JrDingy96 Ikr people still got a grudge against him for no reason like wtf?!",
                  "class": "anger",
                  "sentiment_intensity": "high",
                  "_deepnote_index_column": 59
                },
                {
                  "id": 10060,
                  "tweet": "@lynnew69 then he said talking about wills uncontrollable animals when moving to another link. These comments do not help! #fuming",
                  "class": "anger",
                  "sentiment_intensity": "high",
                  "_deepnote_index_column": 60
                },
                {
                  "id": 10061,
                  "tweet": "@paulbushnell25 @EE bad news if ordered online it hasn't gone through same happened to me had to re order on the phone #furious",
                  "class": "anger",
                  "sentiment_intensity": "high",
                  "_deepnote_index_column": 61
                },
                {
                  "id": 10062,
                  "tweet": "So angry I wanna cry😢😢😢",
                  "class": "anger",
                  "sentiment_intensity": "high",
                  "_deepnote_index_column": 62
                },
                {
                  "id": 10063,
                  "tweet": "OOOOOOOOH MY GOD UUUUGGGGHHHHHHHHH ",
                  "class": "anger",
                  "sentiment_intensity": "high",
                  "_deepnote_index_column": 63
                },
                {
                  "id": 10064,
                  "tweet": "Boycotting @DunkinDonuts till butter pecan comes back. I am furious",
                  "class": "anger",
                  "sentiment_intensity": "high",
                  "_deepnote_index_column": 64
                },
                {
                  "id": 10065,
                  "tweet": "In 2016, Black people are STILL fighting to be recognized as human beings. #cantsleep #angry",
                  "class": "anger",
                  "sentiment_intensity": "high",
                  "_deepnote_index_column": 65
                },
                {
                  "id": 10066,
                  "tweet": "my mom cut my phone off and I'm so furious 🤗",
                  "class": "anger",
                  "sentiment_intensity": "high",
                  "_deepnote_index_column": 66
                },
                {
                  "id": 10067,
                  "tweet": "Once again the only thing on my feed is naay raging about something and my brother filling in all the gaps",
                  "class": "anger",
                  "sentiment_intensity": "high",
                  "_deepnote_index_column": 67
                },
                {
                  "id": 10068,
                  "tweet": "can't believe Achilles killed me! #angry",
                  "class": "anger",
                  "sentiment_intensity": "high",
                  "_deepnote_index_column": 68
                },
                {
                  "id": 10069,
                  "tweet": "I lost a couple niggas I want revenge so put me in coach",
                  "class": "anger",
                  "sentiment_intensity": "high",
                  "_deepnote_index_column": 69
                },
                {
                  "id": 10070,
                  "tweet": "@mjmralph then it's poor packaging my Amazon and the fulfilled seller should be furious as much as you 😕",
                  "class": "anger",
                  "sentiment_intensity": "high",
                  "_deepnote_index_column": 70
                },
                {
                  "id": 10071,
                  "tweet": "Where's your outrage when a black man kills another black man in the streets?",
                  "class": "anger",
                  "sentiment_intensity": "high",
                  "_deepnote_index_column": 71
                },
                {
                  "id": 10072,
                  "tweet": "it makes me so fucking irate jesus. nobody is calling ppl who like hajime abusive stop with the strawmen lmao",
                  "class": "anger",
                  "sentiment_intensity": "high",
                  "_deepnote_index_column": 72
                },
                {
                  "id": 10073,
                  "tweet": "Absolutely fuming I've just scratched all my car 😡😡😡😡😡😡",
                  "class": "anger",
                  "sentiment_intensity": "high",
                  "_deepnote_index_column": 73
                },
                {
                  "id": 10074,
                  "tweet": "@Ms_HeartAttack holy shit it just a bee sting like fuck you're not dying",
                  "class": "anger",
                  "sentiment_intensity": "medium",
                  "_deepnote_index_column": 74
                },
                {
                  "id": 10075,
                  "tweet": "How the fu*k! Who the heck! moved my fridge!... should I knock the landlord door.  #mad ##",
                  "class": "anger",
                  "sentiment_intensity": "high",
                  "_deepnote_index_column": 75
                },
                {
                  "id": 10076,
                  "tweet": "I dislike people who get offended by the littlest shit .",
                  "class": "anger",
                  "sentiment_intensity": "high",
                  "_deepnote_index_column": 76
                },
                {
                  "id": 10077,
                  "tweet": "What the fuck am I supposed to do with no lunch, no dinner, no money and I'm off to work #furious #hangry #day5",
                  "class": "anger",
                  "sentiment_intensity": "high",
                  "_deepnote_index_column": 77
                },
                {
                  "id": 10078,
                  "tweet": "@justyne_haley it does. if one person ruins season 13 for me, I will be so angry",
                  "class": "anger",
                  "sentiment_intensity": "high",
                  "_deepnote_index_column": 78
                },
                {
                  "id": 10079,
                  "tweet": "What the fuck am I supposed to do with no lunch, no dinner, no money and I'm off to work  #hangry #day5",
                  "class": "anger",
                  "sentiment_intensity": "high",
                  "_deepnote_index_column": 79
                },
                {
                  "id": 10080,
                  "tweet": "@firstleeds not only are your buses unreliable your e ticket app is too unable to get on two buses and late for work #fuming #useless reply",
                  "class": "anger",
                  "sentiment_intensity": "high",
                  "_deepnote_index_column": 80
                },
                {
                  "id": 10081,
                  "tweet": "So my Indian Uber driver just called someone the N word. If I wasn't in a moving vehicle I'd have jumped out #disgusted #offended",
                  "class": "anger",
                  "sentiment_intensity": "high",
                  "_deepnote_index_column": 81
                },
                {
                  "id": 10082,
                  "tweet": "The liberal outrage over don king saying the N-word really angers me. The white yuppie progressives can go fuck themselves, shame on blacks",
                  "class": "anger",
                  "sentiment_intensity": "high",
                  "_deepnote_index_column": 82
                },
                {
                  "id": 10083,
                  "tweet": "Just paid for chicken at @panerabread and didn't even get any 😑😑😑 there goes 4 dollars and me as a customer #angry",
                  "class": "anger",
                  "sentiment_intensity": "high",
                  "_deepnote_index_column": 83
                },
                {
                  "id": 10084,
                  "tweet": "but that was a mistake and a half assed excuse and now here i am burning in hell forever",
                  "class": "anger",
                  "sentiment_intensity": "high",
                  "_deepnote_index_column": 84
                },
                {
                  "id": 10085,
                  "tweet": "@ManUtd you have had from me over the years is irrelevant. Its an absolute joke. #manutd #ticketing #fuming #noloyalty #joke #notimpressed",
                  "class": "anger",
                  "sentiment_intensity": "high",
                  "_deepnote_index_column": 85
                },
                {
                  "id": 10086,
                  "tweet": "@hollyrobinson__ Part 2-was buzzing for a cheeky squashie or two-this was NOT what i expected.SORT IT OUT! #food #angry  @coopuk @coopukfood",
                  "class": "anger",
                  "sentiment_intensity": "medium",
                  "_deepnote_index_column": 86
                },
                {
                  "id": 10087,
                  "tweet": "Tasers immobilize, if you taser someone why the fuck do you need to shoot them one second later?! This is really sick!  #wtf #murder",
                  "class": "anger",
                  "sentiment_intensity": "high",
                  "_deepnote_index_column": 87
                },
                {
                  "id": 10088,
                  "tweet": "Bes! You don't just tell a true blooded hoopjunkie to switch a f*c@n' team that juz destroyed your own team. You juz don't! ",
                  "class": "anger",
                  "sentiment_intensity": "high",
                  "_deepnote_index_column": 88
                },
                {
                  "id": 10089,
                  "tweet": "@ChurdAllan fucked my coupon that goal! #raging",
                  "class": "anger",
                  "sentiment_intensity": "high",
                  "_deepnote_index_column": 89
                },
                {
                  "id": 10090,
                  "tweet": "LVG bribed all the refs against Utd for his own personal revenge. That was a foul you prick.",
                  "class": "anger",
                  "sentiment_intensity": "high",
                  "_deepnote_index_column": 90
                },
                {
                  "id": 10091,
                  "tweet": "Now that the whole clown rage has scared me shitless, I'm gonna go cry in my room",
                  "class": "anger",
                  "sentiment_intensity": "high",
                  "_deepnote_index_column": 91
                },
                {
                  "id": 10092,
                  "tweet": "Worst juror ever? Michelle. You were Nicole's biggest threat. #bitter #bb18",
                  "class": "anger",
                  "sentiment_intensity": "high",
                  "_deepnote_index_column": 92
                },
                {
                  "id": 10093,
                  "tweet": "Your twitter picture just makes me fume.",
                  "class": "anger",
                  "sentiment_intensity": "high",
                  "_deepnote_index_column": 93
                },
                {
                  "id": 10094,
                  "tweet": "@leesyatt you are a cruel, cruel man. #therewillbeblood ",
                  "class": "anger",
                  "sentiment_intensity": "high",
                  "_deepnote_index_column": 94
                },
                {
                  "id": 10095,
                  "tweet": "That's really it for my madden career that game sucks , ea sports does a piss poor job every year on that shit",
                  "class": "anger",
                  "sentiment_intensity": "high",
                  "_deepnote_index_column": 95
                },
                {
                  "id": 10096,
                  "tweet": "@NeoFundie @fitchest Ha. Right. I'm from San Jose, CA, and I was offended right there with you. Dave, go on a walk or something next time.",
                  "class": "anger",
                  "sentiment_intensity": "high",
                  "_deepnote_index_column": 96
                },
                {
                  "id": 10097,
                  "tweet": "@FitnessFirstAU something needs to be done about people hogging machines - nobody can use 3 machines at one time!  #notfair #whypay",
                  "class": "anger",
                  "sentiment_intensity": "high",
                  "_deepnote_index_column": 97
                },
                {
                  "id": 10098,
                  "tweet": "I wonder what American city will be next to protest about police shootings. Who's next? Smh. #whenwillitstop #angry #howmanymoretimes",
                  "class": "anger",
                  "sentiment_intensity": "high",
                  "_deepnote_index_column": 98
                },
                {
                  "id": 10099,
                  "tweet": "@politico @realDonaldTrump another angry white man!",
                  "class": "anger",
                  "sentiment_intensity": "high",
                  "_deepnote_index_column": 99
                },
                {
                  "id": 10100,
                  "tweet": "Have wee pop socks on and they KEEP FALLING OFF INSIDE MY SHOES #rage",
                  "class": "anger",
                  "sentiment_intensity": "high",
                  "_deepnote_index_column": 100
                },
                {
                  "id": 10101,
                  "tweet": "The majority of people irritate the fuck out of me, cba with people ahahah",
                  "class": "anger",
                  "sentiment_intensity": "high",
                  "_deepnote_index_column": 101
                },
                {
                  "id": 10102,
                  "tweet": "@oscar_perria a multimillionaire spoiled brat who gets In a self righteous huff bc his friend is Muslim is a non starter bye!",
                  "class": "anger",
                  "sentiment_intensity": "high",
                  "_deepnote_index_column": 102
                },
                {
                  "id": 10103,
                  "tweet": "Wont use using @mothercareuk @Mothercarehelp again!! These guys cant get nothing right!! ",
                  "class": "anger",
                  "sentiment_intensity": "high",
                  "_deepnote_index_column": 103
                },
                {
                  "id": 10104,
                  "tweet": "@kingvee_ don't provoke me to anger",
                  "class": "anger",
                  "sentiment_intensity": "high",
                  "_deepnote_index_column": 104
                },
                {
                  "id": 10105,
                  "tweet": "You complain all the time and then wonder why people never want to see you. You acc rile me up. Stfuuu!!!!",
                  "class": "anger",
                  "sentiment_intensity": "high",
                  "_deepnote_index_column": 105
                },
                {
                  "id": 10106,
                  "tweet": "Bloods boiling",
                  "class": "anger",
                  "sentiment_intensity": "high",
                  "_deepnote_index_column": 106
                },
                {
                  "id": 10107,
                  "tweet": "Leave it on there, rule,nimber 1 of carpet cleaning!!! #furious #worsethananatomicbomb #accidentlyspillbeeronthecarpet",
                  "class": "anger",
                  "sentiment_intensity": "high",
                  "_deepnote_index_column": 107
                },
                {
                  "id": 10108,
                  "tweet": "@DarkLuneFantasy wallah my blood is boiling I need to take a nap ugh",
                  "class": "anger",
                  "sentiment_intensity": "high",
                  "_deepnote_index_column": 108
                },
                {
                  "id": 10109,
                  "tweet": "I swear if @devincameron23 blocks me I'm going to hit her back ",
                  "class": "anger",
                  "sentiment_intensity": "high",
                  "_deepnote_index_column": 109
                },
                {
                  "id": 10110,
                  "tweet": "@jennylhowe I am angry at the student for being a racist, and the teacher for not stopping it, and at the class for letting it go by.",
                  "class": "anger",
                  "sentiment_intensity": "high",
                  "_deepnote_index_column": 110
                },
                {
                  "id": 10111,
                  "tweet": "I'm about to block everyone everywhere posting about the storm. I think everyone is aware of the damn rain and what not so quit. #damn #rage",
                  "class": "anger",
                  "sentiment_intensity": "high",
                  "_deepnote_index_column": 111
                },
                {
                  "id": 10112,
                  "tweet": "I'm just a fuming ball of anger today 🙃",
                  "class": "anger",
                  "sentiment_intensity": "high",
                  "_deepnote_index_column": 112
                },
                {
                  "id": 10113,
                  "tweet": "I didn't find out about this till today due to my bff telling me. I am so disgusted and offended by this.",
                  "class": "anger",
                  "sentiment_intensity": "high",
                  "_deepnote_index_column": 113
                },
                {
                  "id": 10114,
                  "tweet": "@VerizonSupport thanks for saying My wife and I were getting our iphones today and then losing both of them with no ETA #thanks #angry",
                  "class": "anger",
                  "sentiment_intensity": "high",
                  "_deepnote_index_column": 114
                },
                {
                  "id": 10115,
                  "tweet": "A @FirstBSA not turning up? Why am I not surprised. Late for work again! #fuming",
                  "class": "anger",
                  "sentiment_intensity": "high",
                  "_deepnote_index_column": 115
                },
                {
                  "id": 10116,
                  "tweet": "Police Officers....should NOT have the right to just 'shoot' human beings without provocation. It's wrong.\\n\\n@ORConservative @MichaelaAngelaD",
                  "class": "anger",
                  "sentiment_intensity": "high",
                  "_deepnote_index_column": 116
                },
                {
                  "id": 10117,
                  "tweet": "angry already",
                  "class": "anger",
                  "sentiment_intensity": "high",
                  "_deepnote_index_column": 117
                },
                {
                  "id": 10118,
                  "tweet": "... flat party and I instantly get bollocked about it. #fuming",
                  "class": "anger",
                  "sentiment_intensity": "high",
                  "_deepnote_index_column": 118
                },
                {
                  "id": 10119,
                  "tweet": "@XemitSellsMagic add tracking but resent them",
                  "class": "anger",
                  "sentiment_intensity": "high",
                  "_deepnote_index_column": 119
                },
                {
                  "id": 10120,
                  "tweet": "@FoxNews @SheriffClarke @FoxNewsInsider This man is an affront to our justice system.",
                  "class": "anger",
                  "sentiment_intensity": "high",
                  "_deepnote_index_column": 120
                },
                {
                  "id": 10121,
                  "tweet": "SOMEONE LET SNAKES IN MY HOUSE, I BET IT @Ya_Boi_Huck I KILL THAT BUGGER WHEN I GET MY HANDS ON HIM  #HuckFP2",
                  "class": "anger",
                  "sentiment_intensity": "high",
                  "_deepnote_index_column": 121
                },
                {
                  "id": 10122,
                  "tweet": "@ChronAVT ummm, the blog says 'with Simon Stehr faking 7th'...I'll expect an investigation forthwith. This is an #outrage",
                  "class": "anger",
                  "sentiment_intensity": "high",
                  "_deepnote_index_column": 122
                },
                {
                  "id": 10123,
                  "tweet": "@GroupAnon black armed thug with a record carrying gun illegally gets shot by black cop. #outrage   This is a joke.Let em destroy their town",
                  "class": "anger",
                  "sentiment_intensity": "high",
                  "_deepnote_index_column": 123
                },
                {
                  "id": 10124,
                  "tweet": "..... wakes up and says 'have you tried changing her nappy?' 😡👊🏼 #rage!!!!",
                  "class": "anger",
                  "sentiment_intensity": "high",
                  "_deepnote_index_column": 124
                }
              ],
              "rows_bottom": [
                {
                  "id": 10816,
                  "tweet": "I should really study today for chemistry but playing madden is just way more fun.",
                  "class": "anger",
                  "sentiment_intensity": "low",
                  "_deepnote_index_column": 816
                },
                {
                  "id": 10817,
                  "tweet": "i love the word fret so much and im in heaven",
                  "class": "anger",
                  "sentiment_intensity": "low",
                  "_deepnote_index_column": 817
                },
                {
                  "id": 10818,
                  "tweet": "@WWE is the live event Brock vs Orton 2 this Saturday on the WWE Network? If not it needs to be! :) #wwe @RandyOrton @HeymanHustle ",
                  "class": "anger",
                  "sentiment_intensity": "low",
                  "_deepnote_index_column": 818
                },
                {
                  "id": 10819,
                  "tweet": "Thursdays at 6pm Vespers &amp; Meditation #prayerful #plainsong #multisensory #candles #incense #psalms #music #silence #faithful sing or listen",
                  "class": "anger",
                  "sentiment_intensity": "low",
                  "_deepnote_index_column": 819
                },
                {
                  "id": 10820,
                  "tweet": "pray for my boy huff",
                  "class": "anger",
                  "sentiment_intensity": "low",
                  "_deepnote_index_column": 820
                },
                {
                  "id": 10821,
                  "tweet": "GAMEDAY VS BUFORD TODAY AT 5:30 AT HOME!!!!!!!!! NEVER BEEN SO EXCITED ",
                  "class": "anger",
                  "sentiment_intensity": "low",
                  "_deepnote_index_column": 821
                },
                {
                  "id": 10822,
                  "tweet": "snap: hiAleshia 😃",
                  "class": "anger",
                  "sentiment_intensity": "low",
                  "_deepnote_index_column": 822
                },
                {
                  "id": 10823,
                  "tweet": "I need to stop second guess myself and just go with the first thought and go with it. ",
                  "class": "anger",
                  "sentiment_intensity": "low",
                  "_deepnote_index_column": 823
                },
                {
                  "id": 10824,
                  "tweet": "630am meeting Olympic House #10golds24 .  #relentless #neverquit #believe #dreambig #TeamTTO #going4gold",
                  "class": "anger",
                  "sentiment_intensity": "low",
                  "_deepnote_index_column": 824
                },
                {
                  "id": 10825,
                  "tweet": "@ezlisteningdisc it doesn't offend me but it's just,,, Weird.",
                  "class": "anger",
                  "sentiment_intensity": "low",
                  "_deepnote_index_column": 825
                },
                {
                  "id": 10826,
                  "tweet": "Drop Snapchat names #bored  #swap #pics",
                  "class": "anger",
                  "sentiment_intensity": "low",
                  "_deepnote_index_column": 826
                },
                {
                  "id": 10827,
                  "tweet": "Follow me on Snapchat 👻 Carlabtst15 #snapchat ",
                  "class": "anger",
                  "sentiment_intensity": "low",
                  "_deepnote_index_column": 827
                },
                {
                  "id": 10828,
                  "tweet": "I love when #girls are busy in teaching how to #pout while taking #selfie in a mall , their desication is immense #women love #perfection",
                  "class": "anger",
                  "sentiment_intensity": "low",
                  "_deepnote_index_column": 828
                },
                {
                  "id": 10829,
                  "tweet": "follow my girl tiff she only got 3 followers💖💘💖💘💘 @00tiffanyr",
                  "class": "anger",
                  "sentiment_intensity": "low",
                  "_deepnote_index_column": 829
                },
                {
                  "id": 10830,
                  "tweet": "@Ms_HeartAttack peanut butter takes away the sting",
                  "class": "anger",
                  "sentiment_intensity": "low",
                  "_deepnote_index_column": 830
                },
                {
                  "id": 10831,
                  "tweet": "hate to see y'all frown but I'd rather see him smiling 💕✨",
                  "class": "anger",
                  "sentiment_intensity": "low",
                  "_deepnote_index_column": 831
                },
                {
                  "id": 10832,
                  "tweet": "@JaredLeto Jared + #snap? 💘",
                  "class": "anger",
                  "sentiment_intensity": "low",
                  "_deepnote_index_column": 832
                },
                {
                  "id": 10833,
                  "tweet": "Kik me I want to swap pics I will post on my account anonymously if you wish Kik: vsvplou #Kik #kikme  #nudes #tits #snapchat",
                  "class": "anger",
                  "sentiment_intensity": "low",
                  "_deepnote_index_column": 833
                },
                {
                  "id": 10834,
                  "tweet": "ordered my vacation bathing suits. one less thing to fret about.",
                  "class": "anger",
                  "sentiment_intensity": "low",
                  "_deepnote_index_column": 834
                },
                {
                  "id": 10835,
                  "tweet": "Cheap pout my brodcast",
                  "class": "anger",
                  "sentiment_intensity": "low",
                  "_deepnote_index_column": 835
                },
                {
                  "id": 10836,
                  "tweet": "Ughhh love a clean house and my incense lit aromatherapy",
                  "class": "anger",
                  "sentiment_intensity": "low",
                  "_deepnote_index_column": 836
                },
                {
                  "id": 10837,
                  "tweet": "Follow me on Snapchat 👻 Carlabtst15 #snapchat #snap",
                  "class": "anger",
                  "sentiment_intensity": "low",
                  "_deepnote_index_column": 837
                },
                {
                  "id": 10838,
                  "tweet": "Vale! Vale! Sip sangria and taste tantalizing tapas @ElCidLA  's fiery flamenco nights! #MinutesFromHoM #SilverLake #LA #Flamenco",
                  "class": "anger",
                  "sentiment_intensity": "low",
                  "_deepnote_index_column": 838
                },
                {
                  "id": 10839,
                  "tweet": "Grateful for all the hungry people in my life! Hungry to learn, change, grow, help, etc - not sure anybody has it better! #relentless",
                  "class": "anger",
                  "sentiment_intensity": "low",
                  "_deepnote_index_column": 839
                },
                {
                  "id": 10840,
                  "tweet": "Love the new song I can't stop thinking about you by #sting.",
                  "class": "anger",
                  "sentiment_intensity": "low",
                  "_deepnote_index_column": 840
                },
                {
                  "id": 10841,
                  "tweet": "@thomeagle Just to help maintain and boost our status as a world class centre for education, culture and tolerance. ",
                  "class": "anger",
                  "sentiment_intensity": "low",
                  "_deepnote_index_column": 841
                },
                {
                  "id": 10842,
                  "tweet": "@savageimiike one of my favorite songs brother, real talk. ",
                  "class": "anger",
                  "sentiment_intensity": "low",
                  "_deepnote_index_column": 842
                },
                {
                  "id": 10843,
                  "tweet": "one month til someone's bday and i think it's time to flaunt that I got them something pretty awesome ",
                  "class": "anger",
                  "sentiment_intensity": "low",
                  "_deepnote_index_column": 843
                },
                {
                  "id": 10844,
                  "tweet": "@Aurena1701 @AngryOrchard he didn't sting me luckily. He just flew off happy and drunk. Lolololol",
                  "class": "anger",
                  "sentiment_intensity": "low",
                  "_deepnote_index_column": 844
                },
                {
                  "id": 10845,
                  "tweet": "Ellie just gave me loads of gifts with notes on em for uni n I burst out in tears, I LOVE HER😩",
                  "class": "anger",
                  "sentiment_intensity": "low",
                  "_deepnote_index_column": 845
                },
                {
                  "id": 10846,
                  "tweet": "@EagleGiles23 @tgilmore_92 what I miss? ",
                  "class": "anger",
                  "sentiment_intensity": "low",
                  "_deepnote_index_column": 846
                },
                {
                  "id": 10847,
                  "tweet": "@Callidissima @ahouseingotham wrath of khan is one of the best movies of all time",
                  "class": "anger",
                  "sentiment_intensity": "low",
                  "_deepnote_index_column": 847
                },
                {
                  "id": 10848,
                  "tweet": "I'm girly in the sense that I always have lashes &amp; nails done but tomboy in the sense that black is my only color &amp; refuse the ruffle life",
                  "class": "anger",
                  "sentiment_intensity": "low",
                  "_deepnote_index_column": 848
                },
                {
                  "id": 10849,
                  "tweet": "Follow up. Follow through. Be #relentless. #success",
                  "class": "anger",
                  "sentiment_intensity": "low",
                  "_deepnote_index_column": 849
                },
                {
                  "id": 10850,
                  "tweet": "@cburt43 turn that frown upside down",
                  "class": "anger",
                  "sentiment_intensity": "low",
                  "_deepnote_index_column": 850
                },
                {
                  "id": 10851,
                  "tweet": "@CorningFootball  IT'S GAME DAY!!!!      T MINUS 14:30 ",
                  "class": "anger",
                  "sentiment_intensity": "low",
                  "_deepnote_index_column": 851
                },
                {
                  "id": 10852,
                  "tweet": "rose incense are the best thing I've ever bought",
                  "class": "anger",
                  "sentiment_intensity": "low",
                  "_deepnote_index_column": 852
                },
                {
                  "id": 10853,
                  "tweet": "@jaaames1993 Literally burst out laughing.",
                  "class": "anger",
                  "sentiment_intensity": "low",
                  "_deepnote_index_column": 853
                },
                {
                  "id": 10854,
                  "tweet": "Follow up. Follow through. Be . #success",
                  "class": "anger",
                  "sentiment_intensity": "low",
                  "_deepnote_index_column": 854
                },
                {
                  "id": 10855,
                  "tweet": "Wrinkles should merely hide where frown have been.  - Mark Twain",
                  "class": "anger",
                  "sentiment_intensity": "low",
                  "_deepnote_index_column": 855
                },
                {
                  "id": 10856,
                  "tweet": "Love the new song I can't stop thinking about you by .",
                  "class": "anger",
                  "sentiment_intensity": "low",
                  "_deepnote_index_column": 856
                },
                {
                  "id": 10857,
                  "tweet": "@ZubairSabirPTI  pls dont insult the word 'Molna'",
                  "class": "anger",
                  "sentiment_intensity": "medium",
                  "_deepnote_index_column": 857
                },
                {
                  "id": 10858,
                  "tweet": "@ArcticFantasy I would have almost took offense to this if I actually snapped you",
                  "class": "anger",
                  "sentiment_intensity": "medium",
                  "_deepnote_index_column": 858
                },
                {
                  "id": 10859,
                  "tweet": "@IllinoisLoyalty that Rutgers game was an abomination. An affront to God and man. We must never speak of it again.",
                  "class": "anger",
                  "sentiment_intensity": "medium",
                  "_deepnote_index_column": 859
                },
                {
                  "id": 10860,
                  "tweet": "@CozanGaming that's what lisa asked before she started raging at me, 'can I call you?' heh",
                  "class": "anger",
                  "sentiment_intensity": "medium",
                  "_deepnote_index_column": 860
                },
                {
                  "id": 10861,
                  "tweet": "Sometimes I get mad over something so minuscule I try to ruin somebodies life not like lose your job like get you into federal prison ",
                  "class": "anger",
                  "sentiment_intensity": "high",
                  "_deepnote_index_column": 861
                },
                {
                  "id": 10862,
                  "tweet": "Sometimes I get mad over something so minuscule I try to ruin somebodies life not like lose your job like get you into federal prison #anger",
                  "class": "anger",
                  "sentiment_intensity": "medium",
                  "_deepnote_index_column": 862
                },
                {
                  "id": 10863,
                  "tweet": "I think @Sam_Canaday &amp; @KYLEJDOWSON must actually have to be working like me &amp; @dowson_brady because I havent got any snap chat videos today",
                  "class": "anger",
                  "sentiment_intensity": "low",
                  "_deepnote_index_column": 863
                },
                {
                  "id": 10864,
                  "tweet": "My eyes have been dilated. I hate the world right now with the rage of a thousand fiery dragons. I need a drink.",
                  "class": "anger",
                  "sentiment_intensity": "high",
                  "_deepnote_index_column": 864
                },
                {
                  "id": 10865,
                  "tweet": "@huwellwell One chosen by the CLP members! MP seats are not for people to dole out to their mates, we elect candidates. #fuming",
                  "class": "anger",
                  "sentiment_intensity": "high",
                  "_deepnote_index_column": 865
                },
                {
                  "id": 10866,
                  "tweet": "@huwellwell One chosen by the CLP members! MP seats are not for people to dole out to their mates, we elect candidates. ",
                  "class": "anger",
                  "sentiment_intensity": "medium",
                  "_deepnote_index_column": 866
                },
                {
                  "id": 10867,
                  "tweet": "@Yoshi_OnoChin can you please not have Canadian players play US players, that lag  is atrocious. #fixthisgame #trash #sfvrefund ",
                  "class": "anger",
                  "sentiment_intensity": "medium",
                  "_deepnote_index_column": 867
                },
                {
                  "id": 10868,
                  "tweet": "@DailyMirror i love how theres no outrage that it's a white man but if it was a black man them BLM would be all over it regardless of reason",
                  "class": "anger",
                  "sentiment_intensity": "high",
                  "_deepnote_index_column": 868
                },
                {
                  "id": 10869,
                  "tweet": "Me being on my dean really saving a lot of ppl, bc I don't snap nomore &amp; it take so much out of me..",
                  "class": "anger",
                  "sentiment_intensity": "medium",
                  "_deepnote_index_column": 869
                },
                {
                  "id": 10870,
                  "tweet": "Sorry guys I have absolutely no idea what time i'll be on cam tomorrow but will keep you posted. #fuming",
                  "class": "anger",
                  "sentiment_intensity": "medium",
                  "_deepnote_index_column": 870
                },
                {
                  "id": 10871,
                  "tweet": "Sorry guys I have absolutely no idea what time i'll be on cam tomorrow but will keep you posted. ",
                  "class": "anger",
                  "sentiment_intensity": "low",
                  "_deepnote_index_column": 871
                },
                {
                  "id": 10872,
                  "tweet": "Is it me, or is Ding wearing the look of a man who's just found his arch enemy in bed with his missus? #angryman ",
                  "class": "anger",
                  "sentiment_intensity": "medium",
                  "_deepnote_index_column": 872
                },
                {
                  "id": 10873,
                  "tweet": "Is it me, or is Ding wearing the look of a man who's just found his arch enemy in bed with his missus? #angryman #scowl",
                  "class": "anger",
                  "sentiment_intensity": "medium",
                  "_deepnote_index_column": 873
                },
                {
                  "id": 10874,
                  "tweet": "@__NETFLIXNCHILL I fuck with madden way harder",
                  "class": "anger",
                  "sentiment_intensity": "medium",
                  "_deepnote_index_column": 874
                },
                {
                  "id": 10875,
                  "tweet": "@TrussElise Obama must be fuming.. lol",
                  "class": "anger",
                  "sentiment_intensity": "medium",
                  "_deepnote_index_column": 875
                },
                {
                  "id": 10876,
                  "tweet": "Hate when guys cant control their anger 🙃🙃",
                  "class": "anger",
                  "sentiment_intensity": "medium",
                  "_deepnote_index_column": 876
                },
                {
                  "id": 10877,
                  "tweet": "[ @HedgehogDylan ] *she would frown a bit, folding her arms* 'why is it that every time I'm in need of assistance someone expects a lil **",
                  "class": "anger",
                  "sentiment_intensity": "medium",
                  "_deepnote_index_column": 877
                },
                {
                  "id": 10878,
                  "tweet": "Literally fuming fuck sake",
                  "class": "anger",
                  "sentiment_intensity": "high",
                  "_deepnote_index_column": 878
                },
                {
                  "id": 10879,
                  "tweet": "@TrueAggieFan oh so that's where Brian was! Where was my invite? ",
                  "class": "anger",
                  "sentiment_intensity": "medium",
                  "_deepnote_index_column": 879
                },
                {
                  "id": 10880,
                  "tweet": "@TrueAggieFan oh so that's where Brian was! Where was my invite? #offended",
                  "class": "anger",
                  "sentiment_intensity": "medium",
                  "_deepnote_index_column": 880
                },
                {
                  "id": 10881,
                  "tweet": "@DxfyingGrxvity - frustration, looking up at Elphaba in a frown of aggravation. Her high pitched voice was growing more and more --",
                  "class": "anger",
                  "sentiment_intensity": "medium",
                  "_deepnote_index_column": 881
                },
                {
                  "id": 10882,
                  "tweet": "It's the most magical time of the year......Xmas party announced and the #outrage commences. Gotta love Silicon Valley millennials.",
                  "class": "anger",
                  "sentiment_intensity": "medium",
                  "_deepnote_index_column": 882
                },
                {
                  "id": 10883,
                  "tweet": "@LaureEve I am sitting here wrapped in a fluffy blanket, with incense burning, listening to Bon Iver and drinking mulled wine. I'm there.",
                  "class": "anger",
                  "sentiment_intensity": "low",
                  "_deepnote_index_column": 883
                },
                {
                  "id": 10884,
                  "tweet": "@RevTrevK @Wolfman93011 @Daraidernation @EROCKhd Take 2k out of it the numbers on madden are low and have dropped and people are unhappy",
                  "class": "anger",
                  "sentiment_intensity": "medium",
                  "_deepnote_index_column": 884
                },
                {
                  "id": 10885,
                  "tweet": "I wouldn't have #anger issues.....if she didn't have #lying issues.....think about that one. #pow #lies #confusion",
                  "class": "anger",
                  "sentiment_intensity": "medium",
                  "_deepnote_index_column": 885
                },
                {
                  "id": 10886,
                  "tweet": "@isthataspider @dhodgs i will fight this guy! Don't insult the lions like that! But seriously they kinda are.Wasted some of the best players",
                  "class": "anger",
                  "sentiment_intensity": "high",
                  "_deepnote_index_column": 886
                },
                {
                  "id": 10887,
                  "tweet": "Everybody talking about 'the first day of fall' but summer '16 is never gonna die #revenge @Drake",
                  "class": "anger",
                  "sentiment_intensity": "medium",
                  "_deepnote_index_column": 887
                },
                {
                  "id": 10888,
                  "tweet": "The rage has died down.",
                  "class": "anger",
                  "sentiment_intensity": "medium",
                  "_deepnote_index_column": 888
                },
                {
                  "id": 10889,
                  "tweet": "Ananya just grabbed a bible, opened it, started reading, and then said 'where do they talk about burning people?'",
                  "class": "anger",
                  "sentiment_intensity": "medium",
                  "_deepnote_index_column": 889
                },
                {
                  "id": 10890,
                  "tweet": "All Brian does is sleep and aggravate me",
                  "class": "anger",
                  "sentiment_intensity": "high",
                  "_deepnote_index_column": 890
                },
                {
                  "id": 10891,
                  "tweet": "@komal_sidhnani true...\\nThey r burning with other's pleasure!\\nPpl in true love happiness everywhere _😃",
                  "class": "anger",
                  "sentiment_intensity": "low",
                  "_deepnote_index_column": 891
                },
                {
                  "id": 10892,
                  "tweet": "@pbhushan1 @IndianExpress so in your opinion is this the worst delhi govt? #acrid #bitter #hypocrisy",
                  "class": "anger",
                  "sentiment_intensity": "high",
                  "_deepnote_index_column": 892
                },
                {
                  "id": 10893,
                  "tweet": "@pbhushan1 @IndianExpress so in your opinion is this the worst delhi govt? #acrid  #hypocrisy",
                  "class": "anger",
                  "sentiment_intensity": "medium",
                  "_deepnote_index_column": 893
                },
                {
                  "id": 10894,
                  "tweet": "i live and die for mchanzo honeymoon crashing and burning the second they move in together",
                  "class": "anger",
                  "sentiment_intensity": "medium",
                  "_deepnote_index_column": 894
                },
                {
                  "id": 10895,
                  "tweet": "For the first time in my madden career I just set up a farm account. Should make MOTM much easier",
                  "class": "anger",
                  "sentiment_intensity": "low",
                  "_deepnote_index_column": 895
                },
                {
                  "id": 10896,
                  "tweet": "@LeonWobYP b***er off. NCFC is a grudge match :)",
                  "class": "anger",
                  "sentiment_intensity": "medium",
                  "_deepnote_index_column": 896
                },
                {
                  "id": 10897,
                  "tweet": "Might just leave and aggravate bae",
                  "class": "anger",
                  "sentiment_intensity": "medium",
                  "_deepnote_index_column": 897
                },
                {
                  "id": 10898,
                  "tweet": "Realest ever, relentless ever, inevitable that I win.",
                  "class": "anger",
                  "sentiment_intensity": "medium",
                  "_deepnote_index_column": 898
                },
                {
                  "id": 10899,
                  "tweet": "Kik to trade, have fun or a conversation  (kik: youraffair) #kik #kikme #messageme #textme #pics #trade #tradepics #dm  #bored",
                  "class": "anger",
                  "sentiment_intensity": "low",
                  "_deepnote_index_column": 899
                },
                {
                  "id": 10900,
                  "tweet": "Kik to trade, have fun or a conversation  (kik: youraffair) #kik #kikme #messageme #textme #pics #trade #tradepics #dm #snap #bored",
                  "class": "anger",
                  "sentiment_intensity": "low",
                  "_deepnote_index_column": 900
                },
                {
                  "id": 10901,
                  "tweet": "You're so thirsty for the chance to disagree w/ the left, that you don't even realize when something is an affront to your bigoted platform.",
                  "class": "anger",
                  "sentiment_intensity": "medium",
                  "_deepnote_index_column": 901
                },
                {
                  "id": 10902,
                  "tweet": "S/O to the girl that just hit my car...not only did she get lucky w/ no scratch but also from being spared the wrath of sleep deprived Kait🙃",
                  "class": "anger",
                  "sentiment_intensity": "medium",
                  "_deepnote_index_column": 902
                },
                {
                  "id": 10903,
                  "tweet": "@LiamCannon1 He's just too raging to type properly... Ha ha!",
                  "class": "anger",
                  "sentiment_intensity": "medium",
                  "_deepnote_index_column": 903
                },
                {
                  "id": 10904,
                  "tweet": "#oow16 #sting decent new song",
                  "class": "anger",
                  "sentiment_intensity": "low",
                  "_deepnote_index_column": 904
                },
                {
                  "id": 10905,
                  "tweet": "Ok scrubbed hands 5 times before trying to put them in.\\nEyeballs #burning \\n#EvenMoreBlind accidentally scared the #cat whilst #screeching",
                  "class": "anger",
                  "sentiment_intensity": "medium",
                  "_deepnote_index_column": 905
                },
                {
                  "id": 10906,
                  "tweet": "Just joined #pottermore and was sorted into HUFFLEPUFF 😡😡😡 #fuming",
                  "class": "anger",
                  "sentiment_intensity": "high",
                  "_deepnote_index_column": 906
                },
                {
                  "id": 10907,
                  "tweet": "Just joined #pottermore and was sorted into HUFFLEPUFF 😡😡😡 ",
                  "class": "anger",
                  "sentiment_intensity": "medium",
                  "_deepnote_index_column": 907
                },
                {
                  "id": 10908,
                  "tweet": "@reluctantnicko Don't ask, you don't get. Apologies if I've offended you. All due respect Alan, I think you've been fed duff info.",
                  "class": "anger",
                  "sentiment_intensity": "medium",
                  "_deepnote_index_column": 908
                },
                {
                  "id": 10909,
                  "tweet": "I miss my gran singing Rawhide, in her deep baritone growl.",
                  "class": "anger",
                  "sentiment_intensity": "low",
                  "_deepnote_index_column": 909
                },
                {
                  "id": 10910,
                  "tweet": "Having a baby born too soon is #lifechanging 6 years on and it feels like only yesterday #sad #happy #angry #emotionalrollercoaster",
                  "class": "anger",
                  "sentiment_intensity": "medium",
                  "_deepnote_index_column": 910
                },
                {
                  "id": 10911,
                  "tweet": "Having a baby born too soon is #lifechanging 6 years on and it feels like only yesterday #sad #happy  #emotionalrollercoaster",
                  "class": "anger",
                  "sentiment_intensity": "medium",
                  "_deepnote_index_column": 911
                },
                {
                  "id": 10912,
                  "tweet": "@UKBlogAwards @ModishMale I would always be honest but it's great to feedback opinion to the brand - don't want to offend them #BlogHour",
                  "class": "anger",
                  "sentiment_intensity": "medium",
                  "_deepnote_index_column": 912
                },
                {
                  "id": 10913,
                  "tweet": "@fluffysoftlouis no no. I insist that you give me your best insult first",
                  "class": "anger",
                  "sentiment_intensity": "medium",
                  "_deepnote_index_column": 913
                },
                {
                  "id": 10914,
                  "tweet": "@SSheil coincidentally watched Ulzana's Raid last night - brutally indignant filmmaking.",
                  "class": "anger",
                  "sentiment_intensity": "medium",
                  "_deepnote_index_column": 914
                },
                {
                  "id": 10915,
                  "tweet": "@RealJamesWoods @KennyCoble saddest part of this whole mess is that all of this #anger is #misdirected they should march 2 the #WhiteHouse",
                  "class": "anger",
                  "sentiment_intensity": "high",
                  "_deepnote_index_column": 915
                },
                {
                  "id": 10916,
                  "tweet": "Note to self ~ Stop laughing at things that offend you, it's ok to get mad at people \\n#NoteToSelf #offended #mad #upset",
                  "class": "anger",
                  "sentiment_intensity": "medium",
                  "_deepnote_index_column": 916
                },
                {
                  "id": 10917,
                  "tweet": "I think our defense here at USC is playing well, we just need to fix a few things on offense and we can win the PAC 12 this year'",
                  "class": "anger",
                  "sentiment_intensity": "low",
                  "_deepnote_index_column": 917
                },
                {
                  "id": 10918,
                  "tweet": "Eat my ass' is no longer an insult",
                  "class": "anger",
                  "sentiment_intensity": "medium",
                  "_deepnote_index_column": 918
                },
                {
                  "id": 10919,
                  "tweet": "Why to have vanity sizes?Now sizes S,XS(evenXXS sometimes) are too big, WTF?! Dear corporate jerks, Lithuania didn't need this. #rant #angry",
                  "class": "anger",
                  "sentiment_intensity": "high",
                  "_deepnote_index_column": 919
                },
                {
                  "id": 10920,
                  "tweet": "Why to have vanity sizes?Now sizes S,XS(evenXXS sometimes) are too big, WTF?! Dear corporate jerks, Lithuania didn't need this. #rant ",
                  "class": "anger",
                  "sentiment_intensity": "medium",
                  "_deepnote_index_column": 920
                },
                {
                  "id": 10921,
                  "tweet": "@MaddenFreestyle i turn the game on wanting to play madden, and before i load up a game i just turn it off now.",
                  "class": "anger",
                  "sentiment_intensity": "medium",
                  "_deepnote_index_column": 921
                },
                {
                  "id": 10922,
                  "tweet": "@marcavis @AntisocialJW2 I've always been fiery, but never radical.",
                  "class": "anger",
                  "sentiment_intensity": "medium",
                  "_deepnote_index_column": 922
                },
                {
                  "id": 10923,
                  "tweet": "Taking umbrage because Jimmy Carr claimed that Bilbo Baggins went to Mordor on 8 out of 10 cats does Countdown. Know your Baggins', mate.",
                  "class": "anger",
                  "sentiment_intensity": "medium",
                  "_deepnote_index_column": 923
                },
                {
                  "id": 10924,
                  "tweet": "Anger, resentment, and hatred are the destroyer of your fortune today.",
                  "class": "anger",
                  "sentiment_intensity": "medium",
                  "_deepnote_index_column": 924
                },
                {
                  "id": 10925,
                  "tweet": "Anger, resentment, and hatred are the destroyer of your fortune today.'",
                  "class": "anger",
                  "sentiment_intensity": "medium",
                  "_deepnote_index_column": 925
                },
                {
                  "id": 10926,
                  "tweet": "If I spend even 5 minutes with you and you already irritate me I seriously will bitch you out until you shut up",
                  "class": "anger",
                  "sentiment_intensity": "high",
                  "_deepnote_index_column": 926
                },
                {
                  "id": 10927,
                  "tweet": "Sting is just too damn earnest for early morning listening. ",
                  "class": "anger",
                  "sentiment_intensity": "medium",
                  "_deepnote_index_column": 927
                },
                {
                  "id": 10928,
                  "tweet": "Sting is just too damn earnest for early morning listening. #sting",
                  "class": "anger",
                  "sentiment_intensity": "medium",
                  "_deepnote_index_column": 928
                },
                {
                  "id": 10929,
                  "tweet": "Just seeing Alex revells face gets me angry",
                  "class": "anger",
                  "sentiment_intensity": "medium",
                  "_deepnote_index_column": 929
                },
                {
                  "id": 10930,
                  "tweet": "@HomeSwapperteam  Spent months arranging swap , new jobs etc, now I've found out she's been leading me on a merry dance. #fuming with her",
                  "class": "anger",
                  "sentiment_intensity": "high",
                  "_deepnote_index_column": 930
                },
                {
                  "id": 10931,
                  "tweet": "@danbloom1 beware the fury of a weak king",
                  "class": "anger",
                  "sentiment_intensity": "medium",
                  "_deepnote_index_column": 931
                },
                {
                  "id": 10932,
                  "tweet": "@DJ_JeanFranko growl!!!",
                  "class": "anger",
                  "sentiment_intensity": "medium",
                  "_deepnote_index_column": 932
                },
                {
                  "id": 10933,
                  "tweet": "(Sam) Brown's Law: Never offend people with style when you can fake that, you have to break us in this Island.",
                  "class": "anger",
                  "sentiment_intensity": "low",
                  "_deepnote_index_column": 933
                },
                {
                  "id": 10934,
                  "tweet": "@FluDino Event started! everyone is getting ready to travel to the lake of rage, where everything glows",
                  "class": "anger",
                  "sentiment_intensity": "medium",
                  "_deepnote_index_column": 934
                },
                {
                  "id": 10935,
                  "tweet": "@TrevorHMoore @paget_old In Scotland, the right-wingers are the most rabid anti-nationalists. Socialists are mostly in favour.",
                  "class": "anger",
                  "sentiment_intensity": "medium",
                  "_deepnote_index_column": 935
                },
                {
                  "id": 10936,
                  "tweet": "@Jen_ny69 People will always get offended everyone's situation is different! Just because we have kids doesn't mean we have to settle",
                  "class": "anger",
                  "sentiment_intensity": "medium",
                  "_deepnote_index_column": 936
                },
                {
                  "id": 10937,
                  "tweet": "@gayla_weeks1 I try not to let my anger seep into reviews, but I resent having my time wasted on books like that. Time is precious.",
                  "class": "anger",
                  "sentiment_intensity": "medium",
                  "_deepnote_index_column": 937
                },
                {
                  "id": 10938,
                  "tweet": "I hope my hustle don't offend nobody",
                  "class": "anger",
                  "sentiment_intensity": "low",
                  "_deepnote_index_column": 938
                },
                {
                  "id": 10939,
                  "tweet": "Just watched Django Unchained, Other people may frown, but I titter in delight! 2/5",
                  "class": "anger",
                  "sentiment_intensity": "low",
                  "_deepnote_index_column": 939
                },
                {
                  "id": 10940,
                  "tweet": "Lol little things like that make me so angry x",
                  "class": "anger",
                  "sentiment_intensity": "medium",
                  "_deepnote_index_column": 940
                }
              ]
            },
            "text/plain": "        id  \\\n0    10000   \n1    10001   \n2    10002   \n3    10003   \n4    10004   \n..     ...   \n936  10936   \n937  10937   \n938  10938   \n939  10939   \n940  10940   \n\n                                                                                                                                      tweet  \\\n0                                          How the fu*k! Who the heck! moved my fridge!... should I knock the landlord door. #angry #mad ##   \n1                  So my Indian Uber driver just called someone the N word. If I wasn't in a moving vehicle I'd have jumped out #disgusted    \n2                              @DPD_UK I asked for my parcel to be delivered to a pick up store not my address #fuming #poorcustomerservice   \n3    so ef whichever butt wipe pulled the fire alarm in davis bc I was sound asleep #pissed #angry #upset #tired #sad #tired #hangry ######   \n4             Don't join @BTCare they put the phone down on you, talk over you and are rude. Taking money out of my acc willynilly! #fuming   \n..                                                                                                                                      ...   \n936   @Jen_ny69 People will always get offended everyone's situation is different! Just because we have kids doesn't mean we have to settle   \n937     @gayla_weeks1 I try not to let my anger seep into reviews, but I resent having my time wasted on books like that. Time is precious.   \n938                                                                                                    I hope my hustle don't offend nobody   \n939                                                     Just watched Django Unchained, Other people may frown, but I titter in delight! 2/5   \n940                                                                                          Lol little things like that make me so angry x   \n\n     class sentiment_intensity  \n0    anger                high  \n1    anger                high  \n2    anger                high  \n3    anger                high  \n4    anger                high  \n..     ...                 ...  \n936  anger              medium  \n937  anger              medium  \n938  anger                 low  \n939  anger                 low  \n940  anger              medium  \n\n[941 rows x 4 columns]",
            "text/html": "<div>\n<style scoped>\n    .dataframe tbody tr th:only-of-type {\n        vertical-align: middle;\n    }\n\n    .dataframe tbody tr th {\n        vertical-align: top;\n    }\n\n    .dataframe thead th {\n        text-align: right;\n    }\n</style>\n<table border=\"1\" class=\"dataframe\">\n  <thead>\n    <tr style=\"text-align: right;\">\n      <th></th>\n      <th>id</th>\n      <th>tweet</th>\n      <th>class</th>\n      <th>sentiment_intensity</th>\n    </tr>\n  </thead>\n  <tbody>\n    <tr>\n      <th>0</th>\n      <td>10000</td>\n      <td>How the fu*k! Who the heck! moved my fridge!... should I knock the landlord door. #angry #mad ##</td>\n      <td>anger</td>\n      <td>high</td>\n    </tr>\n    <tr>\n      <th>1</th>\n      <td>10001</td>\n      <td>So my Indian Uber driver just called someone the N word. If I wasn't in a moving vehicle I'd have jumped out #disgusted</td>\n      <td>anger</td>\n      <td>high</td>\n    </tr>\n    <tr>\n      <th>2</th>\n      <td>10002</td>\n      <td>@DPD_UK I asked for my parcel to be delivered to a pick up store not my address #fuming #poorcustomerservice</td>\n      <td>anger</td>\n      <td>high</td>\n    </tr>\n    <tr>\n      <th>3</th>\n      <td>10003</td>\n      <td>so ef whichever butt wipe pulled the fire alarm in davis bc I was sound asleep #pissed #angry #upset #tired #sad #tired #hangry ######</td>\n      <td>anger</td>\n      <td>high</td>\n    </tr>\n    <tr>\n      <th>4</th>\n      <td>10004</td>\n      <td>Don't join @BTCare they put the phone down on you, talk over you and are rude. Taking money out of my acc willynilly! #fuming</td>\n      <td>anger</td>\n      <td>high</td>\n    </tr>\n    <tr>\n      <th>...</th>\n      <td>...</td>\n      <td>...</td>\n      <td>...</td>\n      <td>...</td>\n    </tr>\n    <tr>\n      <th>936</th>\n      <td>10936</td>\n      <td>@Jen_ny69 People will always get offended everyone's situation is different! Just because we have kids doesn't mean we have to settle</td>\n      <td>anger</td>\n      <td>medium</td>\n    </tr>\n    <tr>\n      <th>937</th>\n      <td>10937</td>\n      <td>@gayla_weeks1 I try not to let my anger seep into reviews, but I resent having my time wasted on books like that. Time is precious.</td>\n      <td>anger</td>\n      <td>medium</td>\n    </tr>\n    <tr>\n      <th>938</th>\n      <td>10938</td>\n      <td>I hope my hustle don't offend nobody</td>\n      <td>anger</td>\n      <td>low</td>\n    </tr>\n    <tr>\n      <th>939</th>\n      <td>10939</td>\n      <td>Just watched Django Unchained, Other people may frown, but I titter in delight! 2/5</td>\n      <td>anger</td>\n      <td>low</td>\n    </tr>\n    <tr>\n      <th>940</th>\n      <td>10940</td>\n      <td>Lol little things like that make me so angry x</td>\n      <td>anger</td>\n      <td>medium</td>\n    </tr>\n  </tbody>\n</table>\n<p>941 rows × 4 columns</p>\n</div>"
          },
          "metadata": {}
        }
      ]
    },
    {
      "cell_type": "code",
      "metadata": {
        "tags": [],
        "cell_id": "00044-3b4845fd-8e64-469c-b4b5-800ce8035446",
        "deepnote_to_be_reexecuted": false,
        "source_hash": "e6f5c2eb",
        "execution_millis": 55,
        "execution_start": 1619022852611,
        "deepnote_cell_type": "code"
      },
      "source": "class CrearVariables(BaseEstimator, TransformerMixin):\n\n    def mayus(self, tweet):\n        tweet = TweetTokenizer().tokenize(tweet)\n        tweet = [1 for t in tweet if t.upper() == t]\n        tot = sum(count)\n        return tot\n\n    def exclamaciones(self, tweet):\n        tweet = TweetTokenizer().tokenize(tweet)\n        tweet = [1 for t in tweet if t == '!' or t == '¡']\n        tot = sum(count)\n        return tot\n\n    def interrogaciones(self, tweet):\n        tweet = TweetTokenizer().tokenize(tweet)\n        tweet = [1 for t in tweet if t == '?' or t == '¿']\n        tot = sum(count)\n        return tot\n\n    def hashtag(self, tweet):\n        tweet = TweetTokenizer().tokenize(tweet)\n        tweet = [1 for t in tweet if re.match(\"^#.\", t)]\n        tot = sum(count)\n        return tot\n    \n    def elongs():\n        tweet = TweetTokenizer().tokenize(tweet)\n        tweet = [1 for t in tweet if re.match(\"^#.\", t)]\n        tot = sum(count)\n        return tot\n\n    def transform(self, X, y=None):\n        chars = []\n        for tweet in X:\n            chars.append(self.mayus(tweet))\n            chars.append(self.exclamaciones(tweet))\n            chars.append(self.interrogaciones(tweet))\n            chars.append(self.hashtag(tweet))\n        # return pd.DataFrame(np.array(chars), columns=['tweet'])\n        return np.array(chars)\n\n    def fit(self, X, y=None):\n        return self    ",
      "execution_count": 101,
      "outputs": [
        {
          "output_type": "error",
          "ename": "SyntaxError",
          "evalue": "invalid syntax (<ipython-input-101-c1918c15d0f9>, line 23)",
          "traceback": [
            "\u001b[0;36m  File \u001b[0;32m\"<ipython-input-101-c1918c15d0f9>\"\u001b[0;36m, line \u001b[0;32m23\u001b[0m\n\u001b[0;31m    tweet = [1 for t in tweet if re.match(\"^#.\", t) > 0 else 0]\u001b[0m\n\u001b[0m                                                           ^\u001b[0m\n\u001b[0;31mSyntaxError\u001b[0m\u001b[0;31m:\u001b[0m invalid syntax\n"
          ]
        }
      ]
    },
    {
      "cell_type": "markdown",
      "source": "# Puede haber personas que al aparecer en tweets representen odio, triteza, etc, como trump. Pero eso no significa necesariamente que eso va a ser siempre así\n\n# * Yo creo que es mejor eliminar los usuarios",
      "metadata": {
        "id": "9oW6Lse6MqDn",
        "cell_id": "00043-a7a98470-4202-43b8-b508-797644a6ec9a",
        "deepnote_cell_type": "markdown"
      }
    },
    {
      "cell_type": "markdown",
      "source": "# Cómo sé a qué intensidad corresponde cada probabilidad??\n",
      "metadata": {
        "id": "pt0J1U1pW_IN",
        "cell_id": "00047-f2d1ea13-7b26-4fa4-8da4-d6ea9a6032af",
        "deepnote_cell_type": "markdown"
      }
    },
    {
      "cell_type": "markdown",
      "source": "# ------------------------------------------------------------------------------------------------------------------------------------------------------------------------------------------------------------------------------------------------------------------------------------------",
      "metadata": {
        "id": "KOfAqxxwX8ik",
        "cell_id": "00050-bbc89e0b-a1e8-413f-8607-e21ec4567e70",
        "deepnote_cell_type": "markdown"
      }
    },
    {
      "cell_type": "markdown",
      "source": "### Definir la representación y el clasificador\n\nPara esto, definiremos Pipelines. Un `Pipeline` es una lista de transformaciones y un estimador(clasificador) ubicado al final el cual define el flujo que seguiran nuestros datos dentro del sistema que creemos. Nos permite ejecutar facilmente el mismo proceso sobre todos los datasets que usemos, simplificando así nuestra programación.\n\nEl pipeline más básico que podemos hacer es transformar el dataset a Bag of Words y después usar clasificar el BoW usando NaiveBayes:\n\n```python\n    Pipeline([('bow', CountVectorizer()), ('clf', MultinomialNB())])\n```\n\n\nAhora, si queremos usar nuestra transformación para agregar las features que creamos, usaremos `FeatureUnion`. Esta simplemente concatenará los vectores resultantes de ejecutar BoW y los Transformer en un solo vector.\n\n```python\n    Pipeline([('features',FeatureUnion([('bow', CountVectorizer()),\n                                        ('chars_count',CharsCountTransformer())])),\n              ('clf', MultinomialNB())])\n\n```\n\n\n\n",
      "metadata": {
        "id": "MO_yIepczvIx",
        "cell_id": "00051-a32fdc98-7429-41bc-856a-0c8222e2fe65",
        "deepnote_cell_type": "markdown"
      }
    },
    {
      "cell_type": "markdown",
      "source": "Recuerden que cada pipeline representa un sistema de clasificación distinto. Por lo mismo, deben instanciar uno por cada problema que resuelvan. De lo contrario, podrían solapar resultados.  Para esto, les recomendamos crear los pipeline en distintas funciones, como la siguiente:",
      "metadata": {
        "id": "aDbHjXv-zvIx",
        "cell_id": "00052-9313b7e0-0eca-4921-a147-dbc5c5c33193",
        "deepnote_cell_type": "markdown"
      }
    },
    {
      "cell_type": "code",
      "metadata": {
        "ExecuteTime": {
          "end_time": "2020-04-07T15:44:21.155528Z",
          "start_time": "2020-04-07T15:44:21.149545Z"
        },
        "id": "z_R6tyMCzvIy",
        "executionInfo": {
          "status": "ok",
          "timestamp": 1617774685609,
          "user_tz": 240,
          "elapsed": 637,
          "user": {
            "displayName": "Sebastián Flores",
            "photoUrl": "",
            "userId": "05571959636624750778"
          }
        },
        "cell_id": "00053-39998ef2-54f2-40e3-a52d-e62c824e2814",
        "deepnote_to_be_reexecuted": false,
        "source_hash": "c55d98dd",
        "execution_millis": 1,
        "execution_start": 1619019506140,
        "deepnote_cell_type": "code"
      },
      "source": "from sklearn.feature_extraction.text import TfidfTransformer\ndef get_experiment_0_pipeline():\n    return Pipeline([('pre', Preprocessing()),\n                     ('features', FeatureUnion([TfidfVectorizer(ngram_range=(1,3), lowercase = True)),\n                                                ]),\n                     ('clf', RandomForestClassifier())\n                     ])",
      "execution_count": 55,
      "outputs": []
    },
    {
      "cell_type": "markdown",
      "source": "### Ejecutar el pipeline para algún dataset",
      "metadata": {
        "id": "gmMdm98vzvIy",
        "cell_id": "00054-48b94836-d62c-4a6f-8ca0-42ad4af24d87",
        "deepnote_cell_type": "markdown"
      }
    },
    {
      "cell_type": "code",
      "metadata": {
        "ExecuteTime": {
          "end_time": "2020-04-07T15:44:21.167498Z",
          "start_time": "2020-04-07T15:44:21.157540Z"
        },
        "scrolled": true,
        "id": "_eX0cEu-zvIz",
        "executionInfo": {
          "status": "ok",
          "timestamp": 1617776137566,
          "user_tz": 240,
          "elapsed": 703,
          "user": {
            "displayName": "Sebastián Flores",
            "photoUrl": "",
            "userId": "05571959636624750778"
          }
        },
        "cell_id": "00056-4e18c64c-d9bb-4e33-855a-1195e35c205b",
        "deepnote_to_be_reexecuted": false,
        "source_hash": "ead38fc7",
        "execution_millis": 0,
        "execution_start": 1619020210067,
        "deepnote_cell_type": "code"
      },
      "source": "def run(dataset, dataset_name, pipeline, n_feat):\n    \"\"\"Creamos el pipeline y luego lo ejecutamos el pipeline sobre un dataset. \n    Retorna el modelo ya entrenado mas sus labels asociadas y los scores obtenidos al evaluarlo.\"\"\"\n\n    # print('run_', 1, dataset_name)\n    # Dividimos el dataset en train y test, aún no se transforma de Strings a valores numéricos.\n    X_train, X_test, y_train, y_test = train_test_split(\n        dataset.tweet,\n        dataset.sentiment_intensity,\n        shuffle=True,\n        test_size=0.22,\n        stratify=dataset[\"class\"])\n    \n    # print('run_', 2, dataset_name)\n    print(f'# Datos de entrenamiento en dataset {dataset_name}: {len(X_train)}')\n    print(f'# Datos de testing en dataset {dataset_name}: {len(X_test)}')\n\n    # print('run_', 3, dataset_name)\n    X_train = pipeline['pre'].transform(X_train)\n    # print(X_train)\n\n    pipeline.set_params(bow__max_features=n_feat)\n    # print('run_', 4, dataset_name)\n    X_train = pipeline['bow'].fit_transform(X_train)\n    # print('--------------------------\\n',X_train)\n\n    # print('run_', 5, dataset_name)\n    # Entrenamos el clasificador (Ejecuta el entrenamiento sobre todo el pipeline). \n    # En este caso el Bag of Words es el encargado de transformar de Strings a vectores numéricos.\n    pipeline['clf'].fit(X_train, y_train)\n\n    # print('run_', 6, dataset_name)\n    # Predecimos las probabilidades de intensidad de cada elemento del set de prueba.\n    X_test = pipeline['pre'].transform(X_test)\n    X_test = pipeline['bow'].transform(X_test)\n    predicted_probabilities = pipeline['clf'].predict_proba(X_test)\n\n    # print('run_', 7, dataset_name)\n    # Obtenemos el orden de las clases aprendidas.\n    learned_labels = pipeline.classes_\n    \n    # print('run_', 8, dataset_name)\n    # Evaluamos:\n    scores = evaluate(predicted_probabilities, y_test, learned_labels, dataset_name)\n    # print('run_', 9, dataset_name)\n    return pipeline, learned_labels, scores",
      "execution_count": 62,
      "outputs": []
    },
    {
      "cell_type": "markdown",
      "source": "### Ejecutar el sistema creado por cada train set\n\nEste código crea y entrena los 4 sistemas de clasificación y luego los evalua. Para los experimentos, pueden copiar este código variando el pipeline cuantas veces estimen conveniente.",
      "metadata": {
        "id": "z96C1ZOfzvIz",
        "cell_id": "00057-387a5508-cad7-405a-9f8e-114a11954b21",
        "deepnote_cell_type": "markdown"
      }
    },
    {
      "cell_type": "code",
      "metadata": {
        "ExecuteTime": {
          "end_time": "2020-04-07T15:44:21.384119Z",
          "start_time": "2020-04-07T15:44:21.170488Z"
        },
        "scrolled": false,
        "colab": {
          "base_uri": "https://localhost:8080/",
          "height": 878
        },
        "id": "OXAxZBdVzvI0",
        "executionInfo": {
          "status": "error",
          "timestamp": 1617776167805,
          "user_tz": 240,
          "elapsed": 1085,
          "user": {
            "displayName": "Sebastián Flores",
            "photoUrl": "",
            "userId": "05571959636624750778"
          }
        },
        "outputId": "48e58b43-b261-4c53-d14a-ccef80968417",
        "cell_id": "00058-a5d40326-7dfb-433b-9a43-eab7018dbd56",
        "deepnote_to_be_reexecuted": false,
        "source_hash": "42f17acb",
        "execution_millis": 7344,
        "execution_start": 1619020213876,
        "deepnote_cell_type": "code"
      },
      "source": "classifiers = []\nlearned_labels_array = []\nscores_array = []\n\n# Por cada nombre_dataset, dataset en train ('anger', 'fear', 'joy', 'sadness')\nfor dataset_name, dataset in train.items():\n    \n    # creamos el pipeline\n    pipeline = get_experiment_0_pipeline()\n    \n    # ejecutamos el pipeline sobre el dataset\n    classifier, learned_labels, scores = run(dataset, dataset_name, pipeline, n_feat=10000)\n\n    # guardamos el clasificador entrenado (en realidad es el pipeline ya entrenado...)\n    classifiers.append(classifier)\n\n    # guardamos las labels aprendidas por el clasificador\n    learned_labels_array.append(learned_labels)\n\n    # guardamos los scores obtenidos\n    scores_array.append(scores)\n\n# print avg scores\nprint(\n    \"Average scores:\\n\\n\",\n    \"Average AUC: {0:.3g}\\t Average Kappa: {1:.3g}\\t Average Accuracy: {2:.3g}\"\n    .format(*np.array(scores_array).mean(axis=0)))",
      "execution_count": 63,
      "outputs": [
        {
          "name": "stdout",
          "text": "# Datos de entrenamiento en dataset anger: 733\n# Datos de testing en dataset anger: 208\nConfusion Matrix for anger:\n\n[[  9  31   0]\n [  6 128   3]\n [  0  27   4]]\n\nClassification Report:\n\n              precision    recall  f1-score   support\n\n         low       0.60      0.23      0.33        40\n      medium       0.69      0.93      0.79       137\n        high       0.57      0.13      0.21        31\n\n    accuracy                           0.68       208\n   macro avg       0.62      0.43      0.44       208\nweighted avg       0.65      0.68      0.62       208\n\nScores:\n\nAUC:  0.646\tKappa: 0.179\tAccuracy: 0.678\n------------------------------------------------------\n\n# Datos de entrenamiento en dataset fear: 980\n# Datos de testing en dataset fear: 277\nConfusion Matrix for fear:\n\n[[ 22  33   0]\n [ 28 120  14]\n [  3  38  19]]\n\nClassification Report:\n\n              precision    recall  f1-score   support\n\n         low       0.42      0.40      0.41        55\n      medium       0.63      0.74      0.68       162\n        high       0.58      0.32      0.41        60\n\n    accuracy                           0.58       277\n   macro avg       0.54      0.49      0.50       277\nweighted avg       0.57      0.58      0.57       277\n\nScores:\n\nAUC:  0.666\tKappa: 0.214\tAccuracy: 0.581\n------------------------------------------------------\n\n# Datos de entrenamiento en dataset joy: 703\n# Datos de testing en dataset joy: 199\nConfusion Matrix for joy:\n\n[[ 8 48  0]\n [ 3 90 10]\n [ 2 26 12]]\n\nClassification Report:\n\n              precision    recall  f1-score   support\n\n         low       0.62      0.14      0.23        56\n      medium       0.55      0.87      0.67       103\n        high       0.55      0.30      0.39        40\n\n    accuracy                           0.55       199\n   macro avg       0.57      0.44      0.43       199\nweighted avg       0.57      0.55      0.49       199\n\nScores:\n\nAUC:  0.664\tKappa: 0.161\tAccuracy: 0.553\n------------------------------------------------------\n\n# Datos de entrenamiento en dataset sadness: 670\n# Datos de testing en dataset sadness: 190\nConfusion Matrix for sadness:\n\n[[ 7 36  2]\n [ 6 84 12]\n [ 0 27 16]]\n\nClassification Report:\n\n              precision    recall  f1-score   support\n\n         low       0.54      0.16      0.24        45\n      medium       0.57      0.82      0.67       102\n        high       0.53      0.37      0.44        43\n\n    accuracy                           0.56       190\n   macro avg       0.55      0.45      0.45       190\nweighted avg       0.55      0.56      0.52       190\n\nScores:\n\nAUC:  0.646\tKappa: 0.18\tAccuracy: 0.563\n------------------------------------------------------\n\nAverage scores:\n\n Average AUC: 0.655\t Average Kappa: 0.183\t Average Accuracy: 0.594\n",
          "output_type": "stream"
        }
      ]
    },
    {
      "cell_type": "markdown",
      "source": "- Original: Average AUC: 0.643\t Average Kappa: 0.148\t Average Accuracy: 0.582\n\n- Con tf-idf: Average AUC: 0.595\t Average Kappa: 0.0107\t Average Accuracy: 0.564\n",
      "metadata": {
        "id": "v42eU6JTsZaa",
        "cell_id": "00059-72df83c6-0476-40bf-86c1-45314596fe72",
        "deepnote_cell_type": "markdown"
      }
    },
    {
      "cell_type": "markdown",
      "source": "### Predecir los target set y crear la submission\n\nAquí predecimos los target set usando los clasificadores creados y creamos los archivos de las submissions.",
      "metadata": {
        "ExecuteTime": {
          "end_time": "2019-08-21T19:37:43.169737Z",
          "start_time": "2019-08-21T19:37:43.166744Z"
        },
        "id": "IUKwcde_zvI0",
        "cell_id": "00060-41a7aae4-46ba-4277-b862-b48395d118f1",
        "deepnote_cell_type": "markdown"
      }
    },
    {
      "cell_type": "code",
      "metadata": {
        "ExecuteTime": {
          "end_time": "2020-04-07T15:44:21.392097Z",
          "start_time": "2020-04-07T15:44:21.386114Z"
        },
        "id": "mWDUoSmbzvI1",
        "cell_id": "00061-8ee8ac7b-f623-4812-a282-1513c19b1138",
        "deepnote_cell_type": "code"
      },
      "source": "def predict_target(dataset, classifier, labels):\n    # Predecir las probabilidades de intensidad de cada elemento del target set.\n    predicted = pd.DataFrame(classifier.predict_proba(dataset.tweet), columns=labels)\n    \n    # Agregar ids\n    predicted['id'] = dataset.id.values\n    # Reordenar las columnas\n    predicted = predicted[['id', 'low', 'medium', 'high']]\n    return predicted",
      "execution_count": null,
      "outputs": []
    },
    {
      "cell_type": "code",
      "metadata": {
        "ExecuteTime": {
          "end_time": "2020-04-07T15:44:21.588573Z",
          "start_time": "2020-04-07T15:44:21.394094Z"
        },
        "scrolled": true,
        "id": "5CJ4PTwZzvI1",
        "cell_id": "00062-7e3f6249-1c9c-4cc6-9839-9899456e9aad",
        "deepnote_cell_type": "code"
      },
      "source": "predicted_target = {}\n\n# Crear carpeta ./predictions\nif (not os.path.exists('./predictions')):\n    os.mkdir('./predictions')\n\nelse:\n    # Eliminar predicciones anteriores:\n    shutil.rmtree('./predictions')\n    os.mkdir('./predictions')\n\n# por cada target set:\nfor idx, key in enumerate(target):\n    # Predecirlo\n    predicted_target[key] = predict_target(target[key], classifiers[idx],\n                                           learned_labels_array[idx])\n    # Guardar predicciones en archivos separados. \n    predicted_target[key].to_csv('./predictions/{}-pred.txt'.format(key),\n                                 sep='\\t',\n                                 header=False,\n                                 index=False)\n\n# Crear archivo zip\na = shutil.make_archive('predictions', 'zip', './predictions')",
      "execution_count": null,
      "outputs": []
    },
    {
      "cell_type": "markdown",
      "source": "## **7. Resultados**",
      "metadata": {
        "id": "mCAyJIj8nTlU",
        "cell_id": "00063-399c99fb-65dc-4054-b82e-be2e920aae85",
        "deepnote_cell_type": "markdown"
      }
    },
    {
      "cell_type": "markdown",
      "source": "    Muestre y analice sus resultados aquí\n\nA continuación una tabla de ejemplo para mostrar los resultados.  En este caso sólo está el experimento del baseline más otro clasificador, pero ustedes debiesen generar una mayor cantidad de experimentos. \n\n| No. | Approach                       || Dataset   | AUC   | Kappa | Accuracy |\n|-----|--------------------------------||-----------|-------|-------|----------|\n|     | Features        | Clasifier     |           |       |       |          |\n| 0   | bow+chars_count | MultinomialNB | anger     | 0.622 | 0.163 | 0.688    |\n|     |                 |               | fear      | 0.597 | 0.091 | 0.559    |\n|     |                 |               | joy       | 0.728 | 0.251 | 0.601    |\n|     |                 |               | sadness   | 0.645 | 0.166 | 0.581    |\n|     |                 |               |**average**| 0.648 | 0.168 | 0.607    |\n| 1   | tus features    | tu clasifier  | anger     |       |       |          |\n|     |                 |               | fear      |       |       |          |\n|     |                 |               | joy       |       |       |          |\n|     |                 |               | sadness   |       |       |          |\n|     |                 |               |**average**|       |       |          |\n",
      "metadata": {
        "id": "nAYwupS3naYX",
        "cell_id": "00064-98aaa231-8694-4c19-b8e1-3b19d0fc375d",
        "deepnote_cell_type": "markdown"
      }
    },
    {
      "cell_type": "markdown",
      "source": "## **8. Conclusiones**",
      "metadata": {
        "id": "Sqlew0iizvI1",
        "cell_id": "00065-740c44ab-a883-46b3-87df-05b2db7eb393",
        "deepnote_cell_type": "markdown"
      }
    },
    {
      "cell_type": "markdown",
      "source": "    Escriba aquí sus conclusiones",
      "metadata": {
        "id": "zFTikGbszZuc",
        "cell_id": "00066-a83477b5-09eb-4ee7-8615-a47419909c64",
        "deepnote_cell_type": "markdown"
      }
    },
    {
      "cell_type": "markdown",
      "source": "<a style='text-decoration:none;line-height:16px;display:flex;color:#5B5B62;padding:10px;justify-content:end;' href='https://deepnote.com?utm_source=created-in-deepnote-cell&projectId=582f878d-757e-40fd-9ec6-44a661c7fd78' target=\"_blank\">\n<img alt='Created in deepnote.com' style='display:inline;max-height:16px;margin:0px;margin-right:7.5px;' src='data:image/svg+xml;base64,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' > </img>\nCreated in <span style='font-weight:600;margin-left:4px;'>Deepnote</span></a>",
      "metadata": {
        "tags": [],
        "created_in_deepnote_cell": true,
        "deepnote_cell_type": "markdown"
      }
    }
  ],
  "nbformat": 4,
  "nbformat_minor": 0,
  "metadata": {
    "kernelspec": {
      "display_name": "Python 3",
      "language": "python",
      "name": "python3"
    },
    "language_info": {
      "codemirror_mode": {
        "name": "ipython",
        "version": 3
      },
      "file_extension": ".py",
      "mimetype": "text/x-python",
      "name": "python",
      "nbconvert_exporter": "python",
      "pygments_lexer": "ipython3",
      "version": "3.7.6"
    },
    "toc": {
      "base_numbering": 1,
      "nav_menu": {},
      "number_sections": true,
      "sideBar": true,
      "skip_h1_title": true,
      "title_cell": "Table of Contents",
      "title_sidebar": "Contents",
      "toc_cell": true,
      "toc_position": {},
      "toc_section_display": true,
      "toc_window_display": false
    },
    "varInspector": {
      "cols": {
        "lenName": 16,
        "lenType": 16,
        "lenVar": 40
      },
      "kernels_config": {
        "python": {
          "delete_cmd_postfix": "",
          "delete_cmd_prefix": "del ",
          "library": "var_list.py",
          "varRefreshCmd": "print(var_dic_list())"
        },
        "r": {
          "delete_cmd_postfix": ") ",
          "delete_cmd_prefix": "rm(",
          "library": "var_list.r",
          "varRefreshCmd": "cat(var_dic_list()) "
        }
      },
      "types_to_exclude": [
        "module",
        "function",
        "builtin_function_or_method",
        "instance",
        "_Feature"
      ],
      "window_display": false
    },
    "colab": {
      "name": "Assignment_1.ipynb",
      "provenance": [
        {
          "file_id": "13q0UjhCwa8T-Qr8_QR6ZzjZPPwUwEYRz",
          "timestamp": 1617111415286
        }
      ],
      "collapsed_sections": [
        "gpbvNOH0zvIi",
        "mxlNrNf_p0ZY",
        "N6lhhfl2zvIk",
        "a6moqxkEwCe-",
        "LMSn_tDYwOb1",
        "E29LEMZ9zvIo",
        "OTAIEnSJzvIp",
        "kMOjYSQezvIq",
        "ECjkdgdwzvIq",
        "SJyTrr2onLOo",
        "FevBPus0zvIs",
        "RkOP6ugwzvIt",
        "q5aNqEfVzvIv"
      ]
    },
    "deepnote_notebook_id": "e29905ec-2fb0-4184-bb7a-cbfd8a107b62",
    "deepnote": {},
    "deepnote_execution_queue": []
  }
}